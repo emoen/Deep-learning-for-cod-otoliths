{
 "cells": [
  {
   "cell_type": "markdown",
   "metadata": {},
   "source": [
    "### EfficientNet B6 - max exposure"
   ]
  },
  {
   "cell_type": "code",
   "execution_count": 1,
   "metadata": {},
   "outputs": [],
   "source": [
    "import pandas as pd\n",
    "import numpy as np\n",
    "from sklearn.metrics import accuracy_score\n",
    "from sklearn.metrics import mean_squared_error\n",
    "\n",
    "import matplotlib.pyplot as plt"
   ]
  },
  {
   "cell_type": "code",
   "execution_count": 2,
   "metadata": {},
   "outputs": [
    {
     "name": "stdout",
     "output_type": "stream",
     "text": [
      "Accuracy score pr fold\n",
      "0.7048543689320388, 0.6815533980582524, 0.6524271844660194, 0.7320388349514563, 0.6912621359223301, 0.6776699029126214, 0.6796116504854369, 0.6796116504854369, 0.7281553398058253, 0.6854368932038835, \n",
      "MSE pr fold\n",
      "0.43451196999200425, 0.3060707878247112, 0.4362686803085344, 0.2702834854954916, 0.38975394919619233, 0.3209367247336584, 0.41142236959285977, 0.3205649040133468, 0.2941406328857888, 0.4479741380215303, \n",
      "0.7145631067961165 0.30471818752107327\n"
     ]
    }
   ],
   "source": [
    "t = [None] * 10\n",
    "for i in range(0,10):\n",
    "  t[i] = pd.read_csv(\"test_set_\"+str(i)+\".csv\")\n",
    "  \n",
    "print(\"Accuracy score pr fold\")     \n",
    "for i in range(0,10):\n",
    "  print(accuracy_score(t[i].y_pred_test_rounded, t[i].y_true), end = ', ')\n",
    "print(\"\")\n",
    "\n",
    "print(\"MSE pr fold\")  \n",
    "for i in range(0,10):\n",
    "  print(mean_squared_error(t[i].y_pred_test, t[i].y_true), end = ', ')   \n",
    "print(\"\")\n",
    "  \n",
    "aggregate_pred = t[0].y_pred_test.values\n",
    "for i in range(1,10):\n",
    "  aggregate_pred += t[i].y_pred_test.values\n",
    "\n",
    "aggregate_pred = aggregate_pred/10.0\n",
    "print(str( accuracy_score(aggregate_pred.round().astype(\"int\"), t[0].y_true) ) + \" \"+ \n",
    "      str( mean_squared_error(aggregate_pred, t[0].y_true) ) ) "
   ]
  },
  {
   "cell_type": "markdown",
   "metadata": {},
   "source": [
    "### Boxplot of prediction pr age class"
   ]
  },
  {
   "cell_type": "code",
   "execution_count": null,
   "metadata": {},
   "outputs": [],
   "source": [
    "plt.rcParams['figure.dpi'] = 450\n",
    "x = t[0].y_true\n",
    "y = aggregate_pred\n",
    "age_range = np.unique(x)\n",
    "pr_age_group = []\n",
    "for i in age_range:\n",
    "    age_idx = np.where(x == i)\n",
    "    pr_age_group.append( y[age_idx] )\n",
    "\n",
    "plt.boxplot(pr_age_group)\n",
    "plt.show()"
   ]
  },
  {
   "cell_type": "markdown",
   "metadata": {},
   "source": [
    "### Residual plot per age group\n",
    "The predictions show heteroskedasticity: heteroskedasticity happens when the standard deviations of a predicted variable, monitored over different values of an independent variable or as related to prior time periods, are non-constant."
   ]
  },
  {
   "cell_type": "code",
   "execution_count": null,
   "metadata": {},
   "outputs": [],
   "source": [
    "x = t[0].y_true\n",
    "y = aggregate_pred\n",
    "age_range = np.unique(x)\n",
    "pr_age_group = []\n",
    "for i in age_range:\n",
    "    age_idx = np.where(x == i)\n",
    "    pr_age_group.append( y[age_idx] - i )\n",
    "\n",
    "plt.boxplot(pr_age_group)\n",
    "plt.show()"
   ]
  },
  {
   "cell_type": "markdown",
   "metadata": {},
   "source": [
    "### Box plot of mode error summarized over all age groups, and summary statistics"
   ]
  },
  {
   "cell_type": "code",
   "execution_count": null,
   "metadata": {},
   "outputs": [],
   "source": [
    "x =  t[0].y_true\n",
    "y = aggregate_pred\n",
    "errors = x-y\n",
    "pr_age_group = []\n",
    "for i in age_range:\n",
    "    age_idx = np.where(x == i)\n",
    "    pr_age_group.append( y[age_idx] - i )\n",
    "\n",
    "plt.boxplot(errors)\n",
    "plt.show()\n",
    "\n",
    "\n",
    "df_describe = pd.DataFrame(errors)\n",
    "df_describe.describe()"
   ]
  },
  {
   "cell_type": "markdown",
   "metadata": {},
   "source": [
    "### Scatterplot error predictions after rounding"
   ]
  },
  {
   "cell_type": "code",
   "execution_count": null,
   "metadata": {},
   "outputs": [],
   "source": [
    "x =  t[0].y_true\n",
    "y = aggregate_pred\n",
    "age_range = np.unique(x)\n",
    "pr_age_group = []\n",
    "all_rounding_err1 = []\n",
    "all_rounding_err2 = []\n",
    "for i in age_range:\n",
    "    age_idx = np.where(x == i)\n",
    "    errors = y[age_idx] - i\n",
    "    errors1 = errors[(np.abs(errors) >= 0.5) & (np.abs(errors) < 1.5)]\n",
    "    x_axis = [i]*len(errors1)\n",
    "    plt.scatter(x_axis, errors1, color=\"orange\")\n",
    "    \n",
    "    errors2 = errors[np.abs(errors) >= 1.5 ]\n",
    "    x_axis = [i]*len(errors2)\n",
    "    plt.scatter(x_axis, errors2, color=\"red\")\n",
    "    all_rounding_err1.append(errors1)\n",
    "    all_rounding_err2.append(errors2)\n",
    "    \n",
    "\n",
    "flat_list = [item for sublist in all_rounding_err1 for item in sublist]   \n",
    "oneError = len(flat_list)\n",
    "print(\"errors in [0.5, 1.5):  \"+ str( oneError ) )\n",
    "\n",
    "flat_list = [item for sublist in all_rounding_err2 for item in sublist]    \n",
    "twoOrMore = len(flat_list)\n",
    "print(\"errors in [1.5, \\inf): \"+ str( twoOrMore ) )\n",
    "print(\"Total missclassification errors:\"+str(oneError+twoOrMore))\n",
    "\n",
    "plt.show()"
   ]
  },
  {
   "cell_type": "markdown",
   "metadata": {},
   "source": [
    "### Excluding min/max prediction by fold pr prediction"
   ]
  },
  {
   "cell_type": "code",
   "execution_count": null,
   "metadata": {},
   "outputs": [],
   "source": [
    "all_preds = pd.DataFrame()\n",
    "for i in range(1,10):\n",
    "  all_preds[str(i)] = t[i].y_pred_test\n",
    "\n",
    "all_preds.head()\n",
    "all_preds['new_pred'] =0.0\n",
    "for index, row in all_preds.iterrows():\n",
    "    mask = np.logical_or(row == row.max(), row == row.min())\n",
    "    #print(mask)\n",
    "    #print(row)\n",
    "    row_masked = np.ma.masked_array(row, mask = mask)\n",
    "    #print(row_masked)\n",
    "    all_preds['new_pred'].iloc[index] = row_masked.mean()\n",
    "    \n",
    "all_preds.head()\n",
    "\n",
    "print(\"aggregate accuracy, mse\")\n",
    "print(str( accuracy_score(all_preds.new_pred.round().astype(\"int\"), t[0].y_true) )+ \" \" + \n",
    "      str( mean_squared_error(all_preds.new_pred, t[0].y_true) ))\n",
    "\n",
    "#0.7281553398058253 0.27677442836796534"
   ]
  },
  {
   "cell_type": "markdown",
   "metadata": {},
   "source": [
    "### Outliers >= 1.5 years"
   ]
  },
  {
   "cell_type": "code",
   "execution_count": null,
   "metadata": {},
   "outputs": [],
   "source": [
    "#x = y_true.age.values\n",
    "#y = aggregate_pred.values\n",
    "#age_range = np.unique(y_true.age.values)\n",
    "test_set_files = pd.read_csv('test_set_files.csv')\n",
    "x =  t[0].y_true\n",
    "y = aggregate_pred\n",
    "age_range = np.unique(x)\n",
    "for i in age_range:\n",
    "    age_idx = np.where(x == i)\n",
    "    for j in age_idx[0]:\n",
    "        if np.abs( y[ j ] - i ) >= 1.5:\n",
    "            print(str(y[j])+\" \"+str(i), end=',')\n",
    "            print(j)\n",
    "            #print(test_set_files.iloc[j].path)"
   ]
  }
 ],
 "metadata": {
  "kernelspec": {
   "display_name": "Python 3",
   "language": "python",
   "name": "python3"
  },
  "language_info": {
   "codemirror_mode": {
    "name": "ipython",
    "version": 3
   },
   "file_extension": ".py",
   "mimetype": "text/x-python",
   "name": "python",
   "nbconvert_exporter": "python",
   "pygments_lexer": "ipython3",
   "version": "3.8.5"
  }
 },
 "nbformat": 4,
 "nbformat_minor": 4
}
