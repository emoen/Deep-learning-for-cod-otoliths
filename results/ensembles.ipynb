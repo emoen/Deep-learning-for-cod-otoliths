{
 "cells": [
  {
   "cell_type": "code",
   "execution_count": 1,
   "metadata": {},
   "outputs": [
    {
     "data": {
      "text/plain": [
       "'safadaf'"
      ]
     },
     "execution_count": 1,
     "metadata": {},
     "output_type": "execute_result"
    }
   ],
   "source": [
    "import pandas as pd\n",
    "import numpy as np\n",
    "from sklearn.metrics import accuracy_score\n",
    "from sklearn.metrics import mean_squared_error\n",
    "\n",
    "import matplotlib.pyplot as plt\n",
    "\n",
    "\"safadaf\"[-10:]"
   ]
  },
  {
   "cell_type": "code",
   "execution_count": 2,
   "metadata": {},
   "outputs": [
    {
     "name": "stdout",
     "output_type": "stream",
     "text": [
      "aggregate accuracy, mse\n",
      "EFFNetV2_l_min_mse:\t\t\t\t0.7203883495145631 0.27984743881004925\n",
      "EFFNetV2_l_middle_mse:\t\t\t\t0.7281553398058253 0.2749396896282028\n",
      "EFFNetV2_l_max_mse:\t\t\t\t0.7242718446601941 0.28599091634838775\n",
      "EFFNetV2_l_all_mse:\t\t\t\t0.7223300970873786 0.27061980996288926\n",
      "EFFNetV2_m_min_mse:\t\t\t\t0.7398058252427184 0.2733061445705727\n",
      "EFFNetV2_m_middle_mse:\t\t\t\t0.7223300970873786 0.2753004481257845\n",
      "EFFNetV2_m_max_mse:\t\t\t\t0.7126213592233009 0.2891016447191845\n",
      "EFFNetV2_m_MLP_all:\t\t\t\t0.7398058252427184 0.2728000533332227\n",
      "EFFNetB4_groupkfold_stdScalar_10_test2:\t\t0.7281553398058253 0.27677442836796534\n",
      "EFFNetB4_groupkfold_stdScalar_middle:\t\t0.7145631067961165 0.2847701138075624\n",
      "EFFNetB4_groupkfold_stdScalar_max:\t\t0.7087378640776699 0.2908639084032022\n",
      "tB5_2_groupkfold_stdScalar_10_test_min:\t\t0.7436893203883496 0.2770159431240281\n",
      "B5_groupkfold_stdScalar_10_test_middle:\t\t0.7339805825242719 0.2731098431413754\n",
      "NetB5_groupkfold_stdScalar_10_test_max:\t\t0.7320388349514563 0.3587137165456544\n",
      "NetB6_groupkfold_stdScalar_10_test_min:\t\t0.7339805825242719 0.272170267061415\n",
      "B6_groupkfold_stdScalar_10_test_middle:\t\t0.7436893203883496 0.2622701387186297\n",
      "NetB6_groupkfold_stdScalar_10_test_max:\t\t0.7145631067961165 0.3047181875210732\n"
     ]
    }
   ],
   "source": [
    "def aggregate_predsV2(fold_predsFile):\n",
    "    fold_preds = pd.read_csv(fold_predsFile+\"/preds.csv\")\n",
    "    aggregate_pred = fold_preds['0']\n",
    "    acc = [None] * 10\n",
    "    mse = [None] * 10\n",
    "    for i in range(0,10):\n",
    "        acc[i] = accuracy_score(fold_preds[str(i)].round().astype(\"int\"), y_true.age)\n",
    "        mse[i] = mean_squared_error(fold_preds[str(i)], y_true.age)\n",
    "        if i >= 1:\n",
    "            aggregate_pred += fold_preds[str(i)]\n",
    "\n",
    "    aggregate_pred = aggregate_pred/10.0    \n",
    "    acc_mean = accuracy_score(aggregate_pred.round().astype(\"int\"), y_true.age)\n",
    "    mse_mean = mean_squared_error(aggregate_pred, y_true.age)\n",
    "    print(fold_predsFile+ \":\\t\\t\\t\\t\"+str(acc_mean) + \" \" + str(mse_mean))\n",
    "    return acc, acc_mean, mse, mse_mean, aggregate_pred, fold_preds\n",
    "\n",
    "def aggregate_predsV1(fold_predsFile):\n",
    "    t = [None] * 10\n",
    "    for i in range(0,10):\n",
    "        t[i] = pd.read_csv(fold_predsFile+\"/test_set_\"+str(i)+\".csv\") \n",
    "    \n",
    "    acc = [None] * 10\n",
    "    mse = [None] * 10\n",
    "    aggregate_pred = t[0].y_pred_test.values\n",
    "    for i in range(0,10):\n",
    "        acc[i] = accuracy_score(t[i].y_pred_test.values.round().astype(\"int\"), t[0].y_true)\n",
    "        mse[i] = mean_squared_error(t[i].y_pred_test.values, t[0].y_true)\n",
    "        if i >= 1:\n",
    "            aggregate_pred += t[i].y_pred_test.values\n",
    "\n",
    "    aggregate_pred = aggregate_pred/10.0\n",
    "    acc_mean = accuracy_score(aggregate_pred.round().astype(\"int\"), t[0].y_true)\n",
    "    mse_mean = mean_squared_error(aggregate_pred, t[0].y_true)\n",
    "    print(fold_predsFile[-38:]+\":\\t\\t\"+str( acc_mean ) + \" \"+ str( mse_mean ) ) \n",
    "    return acc, acc_mean, mse, mse_mean, aggregate_pred, t\n",
    "    \n",
    "y_true = pd.read_csv(\"EFFNetV2_m_MLP_all/test_set_files.csv\")\n",
    "\n",
    "print(\"aggregate accuracy, mse\")\n",
    "\n",
    "lMinAcc, lMinAccMean, lMinMSE, lMinMSEMean, l_min, l_i = aggregate_predsV2( \"EFFNetV2_l_min_mse\" )\n",
    "lMiddleAcc, lMiddleAccMean, lMiddleMSE, lMiddleMSEMean, l_middle, l_d = aggregate_predsV2( \"EFFNetV2_l_middle_mse\" )\n",
    "lMaxAcc, lMaxAccMean, lMaxMSE, lMaxMSEMean, l_max, l_x = aggregate_predsV2( \"EFFNetV2_l_max_mse\" )\n",
    "lAllAcc, lAllAccMean, lAllMSE, lAllMSEMean, l_all, l_a = aggregate_predsV2( \"EFFNetV2_l_all_mse\" )\n",
    "\n",
    "mMinAcc, mMinAccMean, mMinMSE, mMinMSEMean, m_min, m_i = aggregate_predsV2( \"EFFNetV2_m_min_mse\" )\n",
    "mMiddleAcc, mMiddleAccMean, mMiddleMSE, mMiddleMSEMean, m_middle, m_d = aggregate_predsV2( \"EFFNetV2_m_middle_mse\" )\n",
    "mMaxAcc, mMaxAccMean, mMaxMSE, mMaxMSEMean, m_max, m_x = aggregate_predsV2( \"EFFNetV2_m_max_mse\" )\n",
    "mAllAcc, mAllAccMean, mAllMSE, mAllMSEMean, m_all, m_a = aggregate_predsV2( \"EFFNetV2_m_MLP_all\" )\n",
    "\n",
    "B4MinAcc, B4MinAccMean, B4MinMSE, B4MinMSEMean, b4_min, b4_i = aggregate_predsV1( \"tf_EFFNetB4_groupkfold_stdScalar_10_test2\" )\n",
    "B4MiddleAcc, B4MiddleAccMean, B4MiddleMSE, B4MiddleMSEMean, b4_middle, b4_d = aggregate_predsV1( \"EFFNetB4_groupkfold_stdScalar_middle\" )\n",
    "B4MaxAcc, B4MaxAccMean, B4MaxMSE, B4MaxMSEMean, b4_max, b4_x = aggregate_predsV1( \"EFFNetB4_groupkfold_stdScalar_max\" )\n",
    "\n",
    "B5MinAcc, B5MinAccMean, B5MinMSE, B5MinMSEMean, b5_min, b5_i = aggregate_predsV1( \"tf_EFFNetB5_2_groupkfold_stdScalar_10_test_min\" )\n",
    "B5MiddleAcc, B5MiddleAccMean, B5MiddleMSE, B5MiddleMSEMean, b5_middle, b5_d = aggregate_predsV1( \"tf_EFFNetB5_groupkfold_stdScalar_10_test_middle\" )\n",
    "B5MaxAcc, B5MaxAccMean, B5MaxMSE, B5MaxMSEMean, b5_max, b5_x = aggregate_predsV1( \"tf_EFFNetB5_groupkfold_stdScalar_10_test_max\" )\n",
    "\n",
    "B6MinAcc, B6MinAccMean, B6MinMSE, B6MinMSEMean, b6_min, b6_i = aggregate_predsV1( \"tf_EFFNetB6_groupkfold_stdScalar_10_test_min\" )\n",
    "B6MiddleAcc, B6MiddleAccMean, B6MiddleMSE, B6MiddleMSEMean, b6_middle, b6_i = aggregate_predsV1( \"tf_EFFNetB6_groupkfold_stdScalar_10_test_middle\" )\n",
    "B6MaxAcc, B6MaxAccMean, B6MaxMSE, B6MaxMSEMean, b6_max, b6_x = aggregate_predsV1( \"EFFNetB6_groupkfold_stdScalar_10_test_max\" )\n",
    "\n",
    "#all_cnns = l_all,l_middle,m_min,m_middle,m_max,m_all,b4_min,b4_middle,b4_max,b5_min,b6_middle,b6_min,b6_middle,b6_max\n",
    "all_cnns = b4_min, b5_min, b6_min, m_min, l_min, b4_middle, b5_middle, b6_middle, m_middle, l_middle, b4_max, b5_max, b6_max, m_max, l_max, m_all, l_all\n",
    "all_cnns2 = np.asarray([all_cnns])\n",
    "all_acc = np.zeros((len(all_cnns),len(all_cnns)))\n",
    "all_mse = np.zeros((len(all_cnns),len(all_cnns)))"
   ]
  },
  {
   "cell_type": "markdown",
   "metadata": {},
   "source": [
    "### Summary over all models"
   ]
  },
  {
   "cell_type": "code",
   "execution_count": 39,
   "metadata": {},
   "outputs": [
    {
     "name": "stdout",
     "output_type": "stream",
     "text": [
      "[0.7203883495145631, 0.7281553398058253, 0.7242718446601941, 0.7223300970873786, 0.7398058252427184, 0.7223300970873786, 0.7126213592233009, 0.7398058252427184, 0.7281553398058253, 0.7145631067961165, 0.7087378640776699, 0.7436893203883496, 0.7339805825242719, 0.7320388349514563, 0.7339805825242719, 0.7436893203883496, 0.7145631067961165]\n"
     ]
    },
    {
     "data": {
      "image/png": "[encoded data removed]",
      "text/plain": [
       "<Figure size 432x288 with 1 Axes>"
      ]
     },
     "metadata": {
      "needs_background": "light"
     },
     "output_type": "display_data"
    }
   ],
   "source": [
    "plt.boxplot([lMinAcc, lMiddleAcc, lMaxAcc, lAllAcc, \n",
    "             mMinAcc, mMiddleAcc, mMaxAcc, mAllAcc, \n",
    "             B4MinAcc, B4MiddleAcc, B4MaxAcc, \n",
    "             B5MinAcc, B5MiddleAcc, B5MaxAcc,\n",
    "             B6MinAcc, B6MiddleAcc, B6MaxAcc])\n",
    "print([lMinAccMean, lMiddleAccMean, lMaxAccMean, lAllAccMean, \n",
    "             mMinAccMean, mMiddleAccMean, mMaxAccMean, mAllAccMean, \n",
    "             B4MinAccMean, B4MiddleAccMean, B4MaxAccMean, \n",
    "             B5MinAccMean, B5MiddleAccMean, B5MaxAccMean,\n",
    "             B6MinAccMean, B6MiddleAccMean, B6MaxAccMean])\n",
    "plt.plot([0.9, 1.1], [lMinAccMean, lMinAccMean], 'b')\n",
    "plt.plot([1.9, 2.1], [lMiddleAccMean, lMiddleAccMean], 'b')\n",
    "plt.plot([2.9, 3.1], [lMaxAccMean, lMaxAccMean], 'b')\n",
    "plt.plot([3.9, 4.1], [lAllAccMean, lAllAccMean], 'b')\n",
    "plt.plot([4.9, 5.1], [mMinAccMean, mMinAccMean], 'b')\n",
    "plt.plot([5.9, 6.1], [mMiddleAccMean, mMiddleAccMean], 'b')\n",
    "plt.plot([6.9, 7.1], [mMaxAccMean, mMaxAccMean], 'b')\n",
    "plt.plot([7.9, 8.1], [mAllAccMean, mAllAccMean], 'b')\n",
    "plt.plot([8.9, 9.1], [B4MinAccMean, B4MinAccMean], 'b')\n",
    "plt.plot([9.9, 10.1], [B4MiddleAccMean, B4MiddleAccMean], 'b')\n",
    "plt.plot([10.9, 11.1], [B4MaxAccMean, B4MaxAccMean], 'b')\n",
    "plt.plot([11.9, 12.1], [B5MinAccMean, B5MinAccMean], 'r')\n",
    "plt.plot([12.9, 13.1], [B5MiddleAccMean, B5MiddleAccMean], 'b')\n",
    "plt.plot([13.9, 14.1], [B5MaxAccMean, B5MaxAccMean], 'b')\n",
    "plt.plot([14.9, 15.1], [B6MinAccMean, B6MinAccMean], 'b')\n",
    "plt.plot([15.9, 16.1], [B6MiddleAccMean, B6MiddleAccMean], 'r')\n",
    "plt.plot([16.9, 17.1], [B6MaxAccMean, B6MaxAccMean], 'b')\n",
    "plt.xticks(range(1,18), [\"lMin\",\"lMiddle\",\"lMax\",\"lAll\",\"mMin\",\"mMiddle\",\"mMax\",\"mAll\",\"B4Min\",\"B4Middle\",\"B4Max\"\n",
    "                         ,\"B5Min\",\"B5Middle\",\"B5Max\",\"B6Min\",\"B6Middle\",\"B6Max\"], rotation = 45)\n",
    "\n",
    "plt.show()"
   ]
  },
  {
   "cell_type": "code",
   "execution_count": 40,
   "metadata": {},
   "outputs": [
    {
     "name": "stdout",
     "output_type": "stream",
     "text": [
      "[0.27984743881004925, 0.2749396896282028, 0.28599091634838775, 0.27061980996288926, 0.2733061445705727, 0.2753004481257845, 0.2891016447191845, 0.2728000533332227, 0.27677442836796534, 0.2847701138075624, 0.2908639084032022, 0.2770159431240281, 0.2731098431413754, 0.3587137165456544, 0.272170267061415, 0.2622701387186297, 0.30471818752107327]\n"
     ]
    },
    {
     "data": {
      "image/png": "[encoded data removed]",
      "text/plain": [
       "<Figure size 432x288 with 1 Axes>"
      ]
     },
     "metadata": {
      "needs_background": "light"
     },
     "output_type": "display_data"
    }
   ],
   "source": [
    "plt.boxplot([lMinMSE, lMiddleMSE, lMaxMSE, lAllMSE, \n",
    "             mMinMSE, mMiddleMSE, mMaxMSE, mAllMSE, \n",
    "             B4MinMSE, B4MiddleMSE, B4MaxMSE, \n",
    "             B5MinMSE, B5MiddleMSE, B5MaxMSE,\n",
    "             B6MinMSE, B6MiddleMSE, B6MaxMSE])\n",
    "print([lMinMSEMean, lMiddleMSEMean, lMaxMSEMean, lAllMSEMean, \n",
    "             mMinMSEMean, mMiddleMSEMean, mMaxMSEMean, mAllMSEMean, \n",
    "             B4MinMSEMean, B4MiddleMSEMean, B4MaxMSEMean, \n",
    "             B5MinMSEMean, B5MiddleMSEMean, B5MaxMSEMean,\n",
    "             B6MinMSEMean, B6MiddleMSEMean, B6MaxMSEMean])\n",
    "plt.plot([0.9, 1.1], [lMinMSEMean, lMinMSEMean], 'b')\n",
    "plt.plot([1.9, 2.1], [lMiddleMSEMean, lMiddleMSEMean], 'b')\n",
    "plt.plot([2.9, 3.1], [lMaxMSEMean, lMaxMSEMean], 'b')\n",
    "plt.plot([3.9, 4.1], [lAllMSEMean, lAllMSEMean], 'b')\n",
    "plt.plot([4.9, 5.1], [mMinMSEMean, mMinMSEMean], 'b')\n",
    "plt.plot([5.9, 6.1], [mMiddleMSEMean, mMiddleMSEMean], 'b')\n",
    "plt.plot([6.9, 7.1], [mMaxMSEMean, mMaxMSEMean], 'b')\n",
    "plt.plot([7.9, 8.1], [mAllMSEMean, mAllMSEMean], 'b')\n",
    "plt.plot([8.9, 9.1], [B4MinMSEMean, B4MinMSEMean], 'b')\n",
    "plt.plot([9.9, 10.1], [B4MiddleMSEMean, B4MiddleMSEMean], 'b')\n",
    "plt.plot([10.9, 11.1], [B4MaxMSEMean, B4MaxMSEMean], 'b')\n",
    "plt.plot([11.9, 12.1], [B5MinMSEMean, B5MinMSEMean], 'r')\n",
    "plt.plot([12.9, 13.1], [B5MiddleMSEMean, B5MiddleMSEMean], 'b')\n",
    "plt.plot([13.9, 14.1], [B5MaxMSEMean, B5MaxMSEMean], 'b')\n",
    "plt.plot([14.9, 15.1], [B6MinMSEMean, B6MinMSEMean], 'b')\n",
    "plt.plot([15.9, 16.1], [B6MiddleMSEMean, B6MiddleMSEMean], 'r')\n",
    "plt.plot([16.9, 17.1], [B6MaxMSEMean, B6MaxMSEMean], 'b')\n",
    "plt.xticks(range(1,18), [\"lMin\",\"lMiddle\",\"lMax\",\"lAll\",\"mMin\",\"mMiddle\",\"mMax\",\"mAll\",\"B4Min\",\"B4Middle\",\"B4Max\"\n",
    "                         ,\"B5Min\",\"B5Middle\",\"B5Max\",\"B6Min\",\"B6Middle\",\"B6Max\"], rotation = 45)\n",
    "\n",
    "plt.show()"
   ]
  },
  {
   "cell_type": "markdown",
   "metadata": {},
   "source": [
    "### Ensemble of ensemble - MSE"
   ]
  },
  {
   "cell_type": "code",
   "execution_count": 3,
   "metadata": {},
   "outputs": [
    {
     "name": "stdout",
     "output_type": "stream",
     "text": [
      "136 0.31935643329693003 (12, 13)\n",
      "680 0.2922812590902947 (12, 13, 15)\n",
      "2380 0.27910534272682946 (12, 13, 14, 15)\n",
      "6188 0.2723897592728141 (12, 13, 14, 15, 17)\n",
      "12376 0.2690654461507171 (5, 10, 14, 15, 16, 17)\n",
      "19448 0.2681994391314931 (5, 9, 10, 14, 15, 16, 17)\n",
      "24310 0.26699865887186813 (4, 5, 9, 10, 14, 15, 16, 17)\n",
      "24310 0.264285391128163 (4, 5, 9, 10, 12, 14, 15, 16, 17)\n",
      "19448 0.2621039986500846 (4, 5, 9, 10, 12, 13, 14, 15, 16, 17)\n",
      "12376 0.25863706174007023 (4, 5, 9, 10, 11, 12, 13, 14, 15, 16, 17)\n",
      "6188 0.25607546802703246 (4, 5, 6, 9, 10, 11, 12, 13, 14, 15, 16, 17)\n",
      "2380 0.2540622866092335 (4, 5, 6, 7, 9, 10, 11, 12, 13, 14, 15, 16, 17)\n",
      "680 0.2523819517403853 (4, 5, 6, 7, 8, 9, 10, 11, 12, 13, 14, 15, 16, 17)\n",
      "136 0.250956412776449 (2, 4, 5, 6, 7, 8, 9, 10, 11, 12, 13, 14, 15, 16, 17)\n",
      "17 0.24972575929434454 (1, 2, 4, 5, 6, 7, 8, 9, 10, 11, 12, 13, 14, 15, 16, 17)\n",
      "1 0.248326030031801 (1, 2, 3, 4, 5, 6, 7, 8, 9, 10, 11, 12, 13, 14, 15, 16, 17)\n"
     ]
    }
   ],
   "source": [
    "from itertools import combinations\n",
    "\n",
    "mseStr = \"\"\n",
    "curr_models = np.asarray([])\n",
    "for i in range(2, len(all_cnns)+1):\n",
    "    curr_acc = np.asarray([])\n",
    "    curr_acc_model = list()\n",
    "    curr_mse = np.asarray([])\n",
    "    curr_mse_model = list()\n",
    "    comb = list(combinations(all_cnns, i))\n",
    "    j_comb = list( combinations(range(len(all_cnns)), i) )\n",
    "    for k in range(0, len(comb)):\n",
    "        aggregate = sum(comb[k]) / i\n",
    "        score = accuracy_score(aggregate.round().astype(\"int\"), y_true.age)\n",
    "        curr_acc = np.append(curr_acc, score )\n",
    "        curr_acc_model.append( j_comb[k] )\n",
    "        \n",
    "        mse = mean_squared_error(aggregate, y_true.age)\n",
    "        curr_mse = np.append(curr_mse, mse )\n",
    "        curr_mse_model.append( j_comb[k] )\n",
    "        \n",
    "    best_model_idx = np.argmax(curr_acc)     \n",
    "    abest_model = curr_acc_model[best_model_idx]\n",
    "    abest_model = tuple(v+1 for v in abest_model)\n",
    "    #print(str( len(comb) )+\" \"+str(curr_acc[best_model_idx])+ \" \"+str(abest_model))\n",
    "    \n",
    "    best_mse_idx = np.argmax(curr_mse)     \n",
    "    abest_mse = curr_mse_model[best_mse_idx]\n",
    "    abest_mse = tuple(v+1 for v in abest_mse)\n",
    "    \n",
    "    print(str( len(comb) )+\" \"+str(curr_mse[best_mse_idx])+ \" \"+str(abest_mse))\n",
    "    #print(str( len(comb) )+\" \"+str(curr_acc[best_model_idx])+ \" \"+str(abest_model))\n",
    "    \n",
    "#print(\"**********\")    \n",
    "#print(mseStr)"
   ]
  },
  {
   "cell_type": "code",
   "execution_count": 97,
   "metadata": {},
   "outputs": [],
   "source": [
    "#!pip install shap\n",
    "#import shap\n",
    "#!pip install git+https://github.com/benedekrozemberczki/shapley #\n",
    "#!pip install shapley"
   ]
  },
  {
   "cell_type": "code",
   "execution_count": 49,
   "metadata": {},
   "outputs": [],
   "source": [
    "import shap\n",
    "import sklearn\n",
    "import functools #curried functions:\n",
    "\n",
    "all_cnns3 = all_cnns2.T\n",
    "masker = shap.maskers.Independent(data = all_cnns3)\n",
    "explainer = shap.Explainer(functools.partial(np.average, axis=1), masker) #, X100)\n",
    "#shap_values = explainer(all_cnns3)\n",
    "\n",
    "sample_ind = 11\n",
    "#shap.plots.waterfall(shap_values[sample_ind], max_display=14)\n",
    "#shap.plots.bar(shap_values, max_display=14)"
   ]
  },
  {
   "cell_type": "code",
   "execution_count": null,
   "metadata": {},
   "outputs": [],
   "source": [
    "```{toggle}\n",
    "\n",
    "print(pr_age_group[0])\n",
    "print(np.mean(pr_age_group[0]))\n",
    "print(np.std(pr_age_group[0]))\n",
    "print(\"DDDD\")\n",
    "print(np.percentile(pr_age_group[0], 25) )\n",
    "print(np.percentile(pr_age_group[0], 50) )\n",
    "print(np.percentile(pr_age_group[0], 75) )\n",
    "\n",
    "q1 = np.percentile(pr_age_group[0], 25)\n",
    "q3 = np.percentile(pr_age_group[0], 75)\n",
    "print(\"DDDDDD\")\n",
    "print(len(pr_age_group[0]))\n",
    "for j in range(len(pr_age_group[0])):\n",
    "    if pr_age_group[0][j] < q1 or pr_age_group[0][j] > q3:\n",
    "        print(pr_age_group[0][j])\n",
    "        \n",
    "```        "
   ]
  },
  {
   "cell_type": "markdown",
   "metadata": {},
   "source": [
    "### Excluding min/max prediction by fold pr prediction"
   ]
  },
  {
   "cell_type": "code",
   "execution_count": null,
   "metadata": {},
   "outputs": [],
   "source": [
    "all_preds = pd.DataFrame()\n",
    "for i in range(1,10):\n",
    "  all_preds[str(i)] = fold_preds[str(i)]\n",
    "\n",
    "all_preds.head()\n",
    "all_preds['new_pred'] =0.0\n",
    "for index, row in all_preds.iterrows():\n",
    "    mask = np.logical_or(row == row.max(), row == row.min())\n",
    "    #print(mask)\n",
    "    #print(row)\n",
    "    row_masked = np.ma.masked_array(row, mask = mask)\n",
    "    #print(row_masked)\n",
    "    all_preds['new_pred'].iloc[index] = row_masked.mean()\n",
    "    \n",
    "all_preds.head()\n",
    "\n",
    "print(\"aggregate accuracy, mse\")\n",
    "print(str( accuracy_score(all_preds.new_pred.round().astype(\"int\"), y_true.age) )+ \" \" + \n",
    "      str( mean_squared_error(all_preds.new_pred, y_true.age) ))"
   ]
  },
  {
   "cell_type": "markdown",
   "metadata": {},
   "source": [
    "### Pascals triangle of ensemble"
   ]
  },
  {
   "cell_type": "code",
   "execution_count": 10,
   "metadata": {},
   "outputs": [
    {
     "name": "stdout",
     "output_type": "stream",
     "text": [
      "[[ 0  0  0]\n",
      " [ 4  0  0]\n",
      " [ 7  8  0]\n",
      " [10 11 12]]\n"
     ]
    },
    {
     "data": {
      "image/png": "[encoded data removed]",
      "text/plain": [
       "<Figure size 432x288 with 2 Axes>"
      ]
     },
     "metadata": {
      "needs_background": "light"
     },
     "output_type": "display_data"
    }
   ],
   "source": [
    "import matplotlib.pyplot as mp\n",
    "import pandas as pd\n",
    "import seaborn as sb\n",
    "import numpy as np\n",
    " \n",
    "# import file with data\n",
    "data = np.asarray([[1,2,3], [3,3,1], [2,1,2]])\n",
    "data = pd.DataFrame(data)\n",
    " \n",
    "# creating mask\n",
    "mask = np.triu(np.ones_like(data.corr()))\n",
    "print(np.tril([[1,2,3],[4,5,6],[7,8,9],[10,11,12]], -1))\n",
    " \n",
    "# plotting a triangle correlation heatmap\n",
    "dataplot = sb.heatmap(data.corr(), cmap=\"YlGnBu\", annot=True, mask=mask)\n",
    " \n",
    "# displaying heatmap\n",
    "mp.show()"
   ]
  }
 ],
 "metadata": {
  "kernelspec": {
   "display_name": "Python 3 (ipykernel)",
   "language": "python",
   "name": "python3"
  },
  "language_info": {
   "codemirror_mode": {
    "name": "ipython",
    "version": 3
   },
   "file_extension": ".py",
   "mimetype": "text/x-python",
   "name": "python",
   "nbconvert_exporter": "python",
   "pygments_lexer": "ipython3",
   "version": "3.8.10"
  }
 },
 "nbformat": 4,
 "nbformat_minor": 4
}
