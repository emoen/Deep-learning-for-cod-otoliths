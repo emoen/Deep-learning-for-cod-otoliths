{
 "cells": [
  {
   "cell_type": "markdown",
   "metadata": {},
   "source": [
    "### EfficientNetV2 xl - middle exposure"
   ]
  },
  {
   "cell_type": "code",
   "execution_count": 1,
   "metadata": {},
   "outputs": [],
   "source": [
    "import pandas as pd\n",
    "import numpy as np\n",
    "from sklearn.metrics import accuracy_score\n",
    "from sklearn.metrics import mean_squared_error\n",
    "\n",
    "import matplotlib.pyplot as plt"
   ]
  },
  {
   "cell_type": "code",
   "execution_count": 2,
   "metadata": {},
   "outputs": [
    {
     "name": "stdout",
     "output_type": "stream",
     "text": [
      "Accuracy score pr fold\n",
      "0.6524271844660194, 0.6485436893203883, 0.6524271844660194, 0.6485436893203883, 0.629126213592233, \n",
      "0.654368932038835, 0.6349514563106796, 0.6718446601941748, 0.6388349514563106, 0.6524271844660194, \n",
      "MSE pr fold\n",
      "0.33113389733842696, 0.33089015198244903, 0.3335622875309837, 120.91414307209192, 0.3394327645000837, \n",
      "0.34825558297858916, 0.354377320758977, 8.492523989722427, 0.35576260591688963, 0.33996730585333856, \n",
      "aggregate accuracy, mse\n",
      "0.6485436893203883 1.8437342063370694\n"
     ]
    }
   ],
   "source": [
    "fold_preds = pd.read_csv(\"preds.csv\")\n",
    "y_true = pd.read_csv(\"test_set_files.csv\")\n",
    "  \n",
    "print(\"Accuracy score pr fold\")    \n",
    "for i in range(0,10):\n",
    "  if i == 5: print(\"\")\n",
    "  print(accuracy_score(fold_preds[str(i)].round().astype('int'), y_true.age) , end = ', ')\n",
    "print(\"\")\n",
    "\n",
    "print(\"MSE pr fold\")    \n",
    "for i in range(0,10):\n",
    "  if i == 5: print(\"\")\n",
    "  print(mean_squared_error(fold_preds[str(i)], y_true.age), end = ', ') \n",
    "print(\"\")\n",
    "  \n",
    "aggregate_pred = fold_preds['0']\n",
    "for i in range(1,10):\n",
    "  aggregate_pred += fold_preds[str(i)]\n",
    "\n",
    "aggregate_pred = aggregate_pred/10.0\n",
    "print(\"aggregate accuracy, mse\")\n",
    "print(str( accuracy_score(aggregate_pred.round().astype(\"int\"), y_true.age) )+ \" \" + \n",
    "      str( mean_squared_error(aggregate_pred, y_true.age) ))"
   ]
  },
  {
   "cell_type": "code",
   "execution_count": null,
   "metadata": {},
   "outputs": [],
   "source": [
    "### Boxplot of prediction pr age class"
   ]
  },
  {
   "cell_type": "code",
   "execution_count": null,
   "metadata": {},
   "outputs": [],
   "source": [
    "plt.rcParams['figure.dpi'] = 450\n",
    "x = y_true.age.values\n",
    "y = aggregate_pred.values\n",
    "age_range = np.unique(y_true.age.values)\n",
    "pr_age_group = []\n",
    "for i in age_range:\n",
    "    age_idx = np.where(x == i)\n",
    "    pr_age_group.append( y[age_idx] )\n",
    "\n",
    "plt.boxplot(pr_age_group)\n",
    "plt.show()"
   ]
  },
  {
   "cell_type": "code",
   "execution_count": null,
   "metadata": {},
   "outputs": [],
   "source": [
    "### Residual plot per age group¶\n",
    "The predictions show heteroskedasticity: heteroskedasticity happens when the standard deviations of a predicted variable, monitored over different values of an independent variable or as related to prior time periods, are non-constant."
   ]
  },
  {
   "cell_type": "code",
   "execution_count": null,
   "metadata": {},
   "outputs": [],
   "source": [
    "x = y_true.age.values\n",
    "y = aggregate_pred.values\n",
    "age_range = np.unique(y_true.age.values)\n",
    "pr_age_group = []\n",
    "for i in age_range:\n",
    "    age_idx = np.where(x == i)\n",
    "    pr_age_group.append( y[age_idx] - i )\n",
    "\n",
    "plt.boxplot(pr_age_group)\n",
    "plt.show()"
   ]
  },
  {
   "cell_type": "code",
   "execution_count": null,
   "metadata": {},
   "outputs": [],
   "source": [
    "### Box plot of mode error summarized over all age groups, and summary statistics"
   ]
  },
  {
   "cell_type": "code",
   "execution_count": null,
   "metadata": {},
   "outputs": [],
   "source": [
    "x = y_true.age.values\n",
    "y = aggregate_pred.values\n",
    "errors = x-y\n",
    "pr_age_group = []\n",
    "for i in age_range:\n",
    "    age_idx = np.where(x == i)\n",
    "    pr_age_group.append( y[age_idx] - i )\n",
    "\n",
    "plt.boxplot(errors)\n",
    "plt.show()\n",
    "\n",
    "\n",
    "df_describe = pd.DataFrame(errors)\n",
    "df_describe.describe()"
   ]
  },
  {
   "cell_type": "code",
   "execution_count": null,
   "metadata": {},
   "outputs": [],
   "source": [
    "### Scatterplot error predictions after rounding\n"
   ]
  },
  {
   "cell_type": "code",
   "execution_count": null,
   "metadata": {},
   "outputs": [],
   "source": [
    "x = y_true.age.values\n",
    "y = aggregate_pred.values\n",
    "age_range = np.unique(y_true.age.values)\n",
    "pr_age_group = []\n",
    "all_rounding_err1 = []\n",
    "all_rounding_err2 = []\n",
    "for i in age_range:\n",
    "    age_idx = np.where(x == i)\n",
    "    errors = y[age_idx] - i\n",
    "    errors1 = errors[(np.abs(errors) >= 0.5) & (np.abs(errors) < 1.5)]\n",
    "    x_axis = [i]*len(errors1)\n",
    "    plt.scatter(x_axis, errors1, color=\"orange\")\n",
    "    \n",
    "    errors2 = errors[np.abs(errors) >= 1.5 ]\n",
    "    x_axis = [i]*len(errors2)\n",
    "    plt.scatter(x_axis, errors2, color=\"red\")\n",
    "    all_rounding_err1.append(errors1)\n",
    "    all_rounding_err2.append(errors2)\n",
    "    \n",
    "\n",
    "flat_list = [item for sublist in all_rounding_err1 for item in sublist]   \n",
    "oneError = len(flat_list)\n",
    "print(\"errors in [0.5, 1.5):  \"+ str( oneError ) )\n",
    "\n",
    "flat_list = [item for sublist in all_rounding_err2 for item in sublist]    \n",
    "twoOrMore = len(flat_list)\n",
    "print(\"errors in [1.5, \\inf): \"+ str( twoOrMore ) )\n",
    "print(\"Total missclassification errors:\"+str(oneError+twoOrMore))\n",
    "\n",
    "plt.show()"
   ]
  },
  {
   "cell_type": "code",
   "execution_count": null,
   "metadata": {},
   "outputs": [],
   "source": [
    "### Excluding min/max prediction by fold pr prediction"
   ]
  },
  {
   "cell_type": "code",
   "execution_count": null,
   "metadata": {},
   "outputs": [],
   "source": [
    "all_preds = pd.DataFrame()\n",
    "for i in range(1,10):\n",
    "  all_preds[str(i)] = fold_preds[str(i)]\n",
    "\n",
    "all_preds.head()\n",
    "all_preds['new_pred'] =0.0\n",
    "for index, row in all_preds.iterrows():\n",
    "    mask = np.logical_or(row == row.max(), row == row.min())\n",
    "    #print(mask)\n",
    "    #print(row)\n",
    "    row_masked = np.ma.masked_array(row, mask = mask)\n",
    "    #print(row_masked)\n",
    "    all_preds['new_pred'].iloc[index] = row_masked.mean()\n",
    "    \n",
    "all_preds.head()\n",
    "\n",
    "print(\"aggregate accuracy, mse\")\n",
    "print(str( accuracy_score(all_preds.new_pred.round().astype(\"int\"), y_true.age) )+ \" \" + \n",
    "      str( mean_squared_error(all_preds.new_pred, y_true.age) ))\n",
    "#0.7106796116504854 0.28988731306984655"
   ]
  },
  {
   "cell_type": "code",
   "execution_count": null,
   "metadata": {},
   "outputs": [],
   "source": [
    "### Outliers >= 1.5 years"
   ]
  },
  {
   "cell_type": "code",
   "execution_count": null,
   "metadata": {},
   "outputs": [],
   "source": [
    "x = y_true.age.values\n",
    "y = aggregate_pred.values\n",
    "age_range = np.unique(y_true.age.values)\n",
    "for i in age_range:\n",
    "    age_idx = np.where(x == i)\n",
    "    for j in age_idx[0]:\n",
    "        if np.abs( y[ j ] - i ) >= 1.5:\n",
    "            print(str(y[j])+\" \"+str(i), end=',')\n",
    "            print(j)\n",
    "            #print(y_true.iloc[j].path)"
   ]
  }
 ],
 "metadata": {
  "kernelspec": {
   "display_name": "Python 3",
   "language": "python",
   "name": "python3"
  },
  "language_info": {
   "codemirror_mode": {
    "name": "ipython",
    "version": 3
   },
   "file_extension": ".py",
   "mimetype": "text/x-python",
   "name": "python",
   "nbconvert_exporter": "python",
   "pygments_lexer": "ipython3",
   "version": "3.8.5"
  }
 },
 "nbformat": 4,
 "nbformat_minor": 4
}
