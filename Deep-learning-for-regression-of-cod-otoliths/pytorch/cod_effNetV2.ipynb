{
 "cells": [
  {
   "cell_type": "code",
   "execution_count": 1,
   "metadata": {},
   "outputs": [],
   "source": [
    "# directory /gpfs/gpfs0/deep/project/jupytertest2 = /localscratch_ssd/endrem/project/jupytertest2\n",
    "import pandas as pd\n",
    "import numpy as np\n",
    "import glob\n",
    "import os\n",
    "from pathlib import Path\n",
    "from PIL import Image, ExifTags\n",
    "\n",
    "from sklearn.model_selection import train_test_split\n",
    "from sklearn import preprocessing\n",
    "from sklearn.utils import compute_class_weight\n",
    "from sklearn.metrics import classification_report, confusion_matrix\n",
    "from sklearn.model_selection import KFold\n",
    "from sklearn.preprocessing import StandardScaler\n",
    "\n",
    "from sklearn.metrics import mean_squared_error, accuracy_score\n",
    "import scipy\n",
    "\n",
    "import matplotlib.pyplot as plt\n",
    "\n",
    "#salmon-scales\n",
    "#from train_util import read_images, load_xy, get_checkpoint_tensorboard, create_model_grayscale, get_fresh_weights, base_output, dense1_linear_output, train_validate_test_split\n"
   ]
  },
  {
   "cell_type": "code",
   "execution_count": 2,
   "metadata": {},
   "outputs": [],
   "source": [
    "#pip uninstall plotly -y\n",
    "#pip install plotly --user\n",
    "#!pip uninstall torch -y\n",
    "#!pip install torch==1.10.1 --user\n",
    "\n",
    "#!pip install loguru --user\n",
    "#!pip install timm --user #PyTorch Image Models\n",
    "#!pip install albumentations  --user #augmentation\n",
    "#!pip install colorama --user #color terminal\n",
    "#!pip install tensorflow==2.5"
   ]
  },
  {
   "cell_type": "code",
   "execution_count": 3,
   "metadata": {},
   "outputs": [],
   "source": [
    "import os\n",
    "import gc\n",
    "import copy\n",
    "import time\n",
    "import random\n",
    "\n",
    "import numpy as np\n",
    "import pandas as pd\n",
    "#import plotly.graph_objects as go\n",
    "\n",
    "import torch\n",
    "import torch.nn as nn\n",
    "import torch.optim as optim\n",
    "from torch.optim import lr_scheduler\n",
    "from torch.utils.data import Dataset, DataLoader\n",
    "from torch.cuda import amp\n",
    "\n",
    "from tqdm import tqdm\n",
    "from collections import defaultdict\n",
    "\n",
    "from loguru import logger\n",
    "\n",
    "from sklearn.metrics import roc_auc_score\n",
    "from sklearn.model_selection import StratifiedKFold\n",
    "\n",
    "import timm\n",
    "import albumentations as A\n",
    "from albumentations.pytorch import ToTensorV2\n",
    "\n",
    "from colorama import Fore\n",
    "b_ = Fore.BLUE\n",
    "\n",
    "from train_val_test_split import train_validate_test_split"
   ]
  },
  {
   "cell_type": "markdown",
   "metadata": {},
   "source": [
    "### Train Configuration"
   ]
  },
  {
   "cell_type": "code",
   "execution_count": 4,
   "metadata": {},
   "outputs": [],
   "source": [
    "# Source: https://github.com/rwightman/pytorch-image-models/blob/master/timm/models/efficientnet.py\n",
    "# tf_efficientnetv2_s_in21k - input_size=(3, 300, 300), test_input_size=(3, 384, 384)\n",
    "# tf_efficientnetv2_m_in21k - input_size=(3, 384, 384), test_input_size=(3, 480, 480)\n",
    "# tf_efficientnetv2_l_in21k - input_size=(3, 384, 384), test_input_size=(3, 480, 480)\n",
    "# tf_efficientnetv2_xl_in21k -input_size=(3, 384, 384), test_input_size=(3, 512, 512)\n",
    "\n",
    "#rexnet_100,in1k\n",
    "#rexnet_130,in1k\n",
    "#rexnet_150,in1k\n",
    "#rexnet_200,in1k\n",
    "\n",
    "class CONFIG:\n",
    "    seed = 42\n",
    "    model_name = 'tf_efficientnetv2_m_in21k'  #V2-l with all weights\n",
    "    train_batch_size = 8\n",
    "    valid_batch_size = 8\n",
    "    img_size = 384\n",
    "    val_img_size = 384\n",
    "    learning_rate = 1e-5\n",
    "    min_lr = 1e-6\n",
    "    weight_decay = 1e-6\n",
    "    T_max = 10\n",
    "    scheduler = 'CosineAnnealingLR'\n",
    "    n_accumulate = 1\n",
    "    n_fold = 10 #5\n",
    "    target_size = 1\n",
    "    device = torch.device(\"cuda:0\" if torch.cuda.is_available() else \"cpu\")\n",
    "    debugging = False\n",
    "    which_exposure =  \"all\" #{min, middle, max,all}\n",
    "    in_chans = 9\n",
    "    CHANNELS = \"channels_first\"\n",
    "    KERAS_TRAIN_TEST_SEED = 2021\n",
    "    #ROOTDIR = \"./EFFNetV2_l_MLP/\"\n",
    "    #ROOTDIR = \"./REXNET_middle/\"\n",
    "    #ROOTDIR = \"./EFFNetV2_l_MLP_all/\"\n",
    "    #ROOTDIR = \"./EFFNetV2_xl_max_mse/\"\n",
    "    ROOTDIR = \"./EFFNetV2_m_all_mse/\"\n",
    "    CUDA_VISIBLE_DEVICE = \"0\"\n",
    "    #tensorboard_path = 'tensorboard_test2'\n",
    "    #checkpoint_path = 'checkpoints_test2/cod_oto_efficientnetBBB.{epoch:03d}-{val_loss:.2f}.hdf5'\n",
    "    input_shape = (3, img_size, img_size) #Tensorflow only\n",
    "    test_size = 0.1 #0.15\n",
    "    test_split_seed = 8\n",
    "    steps_per_epoch = 1600\n",
    "    epochs = 150\n",
    "    early_stopping_patience = 14\n",
    "    reduceLROnPlateau_factor = 0.2\n",
    "    reduceLROnPlateau_patience = 7\n",
    "    early_stopping = 40\n",
    "    base_dir = '/gpfs/gpfs0/deep/data/Savannah_Professional_Practice2021_08_12_2021/CodOtholiths-MachineLearning/Savannah_Professional_Practice'\n",
    "    \n",
    "    \n",
    "def set_seed(seed = 42):\n",
    "    '''Sets the seed of the entire notebook so results are the same every time we run.\n",
    "    This is for REPRODUCIBILITY.'''\n",
    "    np.random.seed(seed)\n",
    "    random.seed(seed)\n",
    "    torch.manual_seed(seed)\n",
    "    torch.cuda.manual_seed(seed)\n",
    "    # When running on the CuDNN backend, two further options must be set\n",
    "    torch.backends.cudnn.deterministic = True\n",
    "    torch.backends.cudnn.benchmark = False\n",
    "    # Set a fixed value for the hash seed\n",
    "    os.environ['PYTHONHASHSEED'] = str(seed)\n",
    "    \n",
    "set_seed(CONFIG.seed)    "
   ]
  },
  {
   "cell_type": "code",
   "execution_count": 5,
   "metadata": {},
   "outputs": [],
   "source": [
    "import json\n",
    "\n",
    "config_dict = CONFIG.__dict__\n",
    "config_dict = dict(config_dict)\n",
    "config_dict.pop('device', None)\n",
    "config_dict.pop('__dict__', None)\n",
    "config_dict.pop('__weakref__', None)\n",
    "config_dict.pop('__doc__', None)\n",
    "\n",
    "with open(CONFIG.ROOTDIR+'config.json', 'w', encoding='utf-8') as f:\n",
    "    json.dump(config_dict, f, ensure_ascii=False, indent=4)"
   ]
  },
  {
   "cell_type": "markdown",
   "metadata": {},
   "source": [
    "### Read files to Pandas"
   ]
  },
  {
   "cell_type": "code",
   "execution_count": 6,
   "metadata": {},
   "outputs": [
    {
     "name": "stdout",
     "output_type": "stream",
     "text": [
      "error_count:226\n",
      "add_count:5150\n"
     ]
    }
   ],
   "source": [
    "from utils.read_jpg_cods import read_jpg_cods\n",
    "from utils.train_val_test_split import *\n",
    "from utils.train_test_split import *\n",
    "\n",
    "df = read_jpg_cods( CONFIG ) #5316 #5110 #5150"
   ]
  },
  {
   "cell_type": "code",
   "execution_count": 7,
   "metadata": {},
   "outputs": [
    {
     "name": "stdout",
     "output_type": "stream",
     "text": [
      "error_count:226\n",
      "add_count:5150\n"
     ]
    }
   ],
   "source": [
    "CONFIG.img_size = CONFIG.val_img_size\n",
    "df_test = read_jpg_cods( CONFIG ) "
   ]
  },
  {
   "cell_type": "markdown",
   "metadata": {},
   "source": [
    "### Train/Test split"
   ]
  },
  {
   "cell_type": "code",
   "execution_count": 8,
   "metadata": {},
   "outputs": [
    {
     "name": "stdout",
     "output_type": "stream",
     "text": [
      "len age:5150\n",
      "True\n",
      "True\n",
      "(515, 3, 384, 384)\n",
      "(4635, 3, 384, 384)\n",
      "4635\n",
      "(515, 3, 384, 384)\n",
      "515\n",
      "5150\n",
      "5150\n"
     ]
    }
   ],
   "source": [
    "print(\"len age:\"+str( len(df.age) ) ) #len age:5090, error_count:205\n",
    "train_imgs, train_age, test_imgs, test_age, test_path = train_test_split(df, CONFIG, test_size=CONFIG.test_size, a_seed=CONFIG.test_split_seed)\n",
    "test_path.to_csv( CONFIG.ROOTDIR+\"test_set_files.csv\", index=False)\n",
    "train_imgs2, train_age2, test_imgs2, test_age2, test_path2 = train_test_split(df_test, CONFIG, test_size=CONFIG.test_size, a_seed=CONFIG.test_split_seed)\n",
    "\n",
    "print(np.any(test_path2==test_path))\n",
    "print(np.any(test_age==test_age2))\n",
    "test_imgs = test_imgs2\n",
    "\n",
    "del train_imgs2\n",
    "del test_imgs2\n",
    "del train_age2\n",
    "del test_age2\n",
    "print(test_imgs.shape)\n",
    "\n",
    "#df1 = pd.DataFrame(list(zip(train_imgs, train_age)), columns=['image', 'age'])\n",
    "\n",
    "print(train_imgs.shape)\n",
    "print(len(train_age))\n",
    "print(test_imgs.shape)\n",
    "print(len(test_age))\n",
    "print(len(train_age)+len(test_age))\n",
    "print(len(df))\n",
    "#print(len(df1))"
   ]
  },
  {
   "cell_type": "markdown",
   "metadata": {},
   "source": [
    "### Dataset class"
   ]
  },
  {
   "cell_type": "code",
   "execution_count": 9,
   "metadata": {},
   "outputs": [],
   "source": [
    "class codDataset(Dataset):\n",
    "    def __init__(self, imgs, age, transform=None): \n",
    "        self.labels = age \n",
    "        self.image = imgs #np.stack( df['image'].values , axis=0) # make 4D-array (num_imgs, channels, width, height)\n",
    "        self.transform = transform\n",
    "        \n",
    "    def __len__(self):\n",
    "        return len(self.labels)\n",
    "    \n",
    "    def __getitem__(self, index):\n",
    "        image = self.image[index]\n",
    "        label = torch.tensor(self.labels[index]).float()\n",
    "        \n",
    "        if self.transform:\n",
    "            #print(\"1\"+str(image.shape)) \n",
    "            tmp = image.transpose(1,2,0) # convert to channel last\n",
    "            #print(\"2\"+str(tmp.shape))\n",
    "            image = self.transform(image=tmp)[\"image\"] \n",
    "            #print(\"3\"+str(image.shape))\n",
    "            image = image.transpose(2,0,1)\n",
    "            #print(\"4\"+str(image.shape))\n",
    "        \n",
    "        return image, label"
   ]
  },
  {
   "cell_type": "markdown",
   "metadata": {},
   "source": [
    "### Augmentation"
   ]
  },
  {
   "cell_type": "markdown",
   "metadata": {},
   "source": [
    "#### This one"
   ]
  },
  {
   "cell_type": "code",
   "execution_count": 10,
   "metadata": {},
   "outputs": [],
   "source": [
    "data_transforms = {\n",
    "    \"train\": A.Compose([A.Rotate((-90, 90), p=1.0)], p=0.99),\n",
    "    \"valid\": A.Compose([], p=1.)\n",
    "}"
   ]
  },
  {
   "cell_type": "markdown",
   "metadata": {},
   "source": [
    "### Cod Model"
   ]
  },
  {
   "cell_type": "code",
   "execution_count": 11,
   "metadata": {},
   "outputs": [
    {
     "name": "stderr",
     "output_type": "stream",
     "text": [
      "Downloading: \"https://github.com/rwightman/pytorch-image-models/releases/download/v0.1-effv2-weights/tf_efficientnetv2_m_21k-361418a2.pth\" to /root/.cache/torch/hub/checkpoints/tf_efficientnetv2_m_21k-361418a2.pth\n"
     ]
    },
    {
     "name": "stdout",
     "output_type": "stream",
     "text": [
      "model self:Sequential(\n",
      "  (0): Linear(in_features=1280, out_features=256, bias=True)\n",
      "  (1): LeakyReLU(negative_slope=0.01)\n",
      "  (2): Linear(in_features=256, out_features=32, bias=True)\n",
      "  (3): LeakyReLU(negative_slope=0.01)\n",
      "  (4): Linear(in_features=32, out_features=1, bias=True)\n",
      ")\n"
     ]
    }
   ],
   "source": [
    "class codModel(nn.Module):\n",
    "\n",
    "    def __init__(self, model_name, pretrained=True):\n",
    "        super(codModel, self).__init__()\n",
    "        self.model = timm.create_model(CONFIG.model_name, pretrained=pretrained, in_chans=CONFIG.in_chans, num_classes=1) #model_name\n",
    "        self.n_features = self.model.classifier.in_features\n",
    "        self.model.classifier = nn.Linear(self.n_features, CONFIG.target_size)\n",
    "        lastLayer = nn.Sequential(nn.Linear(self.n_features, 256),\n",
    "              nn.LeakyReLU(),\n",
    "              nn.Linear(256, 32),\n",
    "              nn.LeakyReLU(),\n",
    "              nn.Linear(32, CONFIG.target_size))\n",
    "        self.model.classifier = lastLayer\n",
    "        print(\"model self:\"+str(self.model.classifier))\n",
    "\n",
    "    def forward(self, x):\n",
    "        output = self.model(x)\n",
    "        return output\n",
    "    \n",
    "model = codModel(CONFIG.model_name)\n",
    "model.to(CONFIG.device);"
   ]
  },
  {
   "cell_type": "markdown",
   "metadata": {},
   "source": [
    "### Training function"
   ]
  },
  {
   "cell_type": "code",
   "execution_count": 12,
   "metadata": {},
   "outputs": [],
   "source": [
    "def train_one_epoch(model, optimizer, scheduler, dataloader, device, epoch):\n",
    "    model.train()\n",
    "    scaler = amp.GradScaler()\n",
    "    \n",
    "    dataset_size = 0\n",
    "    running_loss = 0.0\n",
    "    \n",
    "    optimizer.zero_grad()\n",
    "    loss_fn = nn.MSELoss()\n",
    "    bar = tqdm(enumerate(dataloader), total=len(dataloader))\n",
    "    for step, (images, labels) in bar:  \n",
    "        #optimizer.zero_grad()\n",
    "        \n",
    "        images = images.to(device, dtype=torch.float)\n",
    "        labels = labels.to(device, dtype=torch.float)\n",
    "        labels = torch.unsqueeze(labels, 1)\n",
    "        \n",
    "        batch_size = images.size(0)\n",
    "        \n",
    "        with amp.autocast(enabled=True):\n",
    "            outputs = model(images)\n",
    "            #print(\"outputs:+\"+str(outputs))\n",
    "            #print(\"labels:\"+str(labels))\n",
    "            #print(\"mse:\"+str(mean_squared_error(labels.cpu().data.numpy(), outputs.cpu().data.numpy())))\n",
    "            loss = loss_fn(outputs, labels)\n",
    "         \n",
    "        \n",
    "        scaler.scale(loss).backward() # Scales loss.  Calls backward() on scaled loss to create scaled gradients\n",
    "        #model.print_debug() #model.classifier.weight[0:10,0]\n",
    "        \n",
    "        # scaler.step() first unscales the gradients of the optimizer's assigned params.\n",
    "        # If these gradients do not contain infs or NaNs, optimizer.step() is then called,\n",
    "        # otherwise, optimizer.step() is skipped.        \n",
    "        scaler.step(optimizer)\n",
    "        scaler.update() # Updates the scale for next iteration.\n",
    "            \n",
    "        # zero the parameter gradients\n",
    "        optimizer.zero_grad() # set_to_none=True here can modestly improve performance\n",
    "                \n",
    "        running_loss += loss.item() #(loss.item() * batch_size)\n",
    "        dataset_size += batch_size\n",
    "        \n",
    "        epoch_loss = running_loss/dataset_size\n",
    "        \n",
    "        bar.set_postfix(Epoch=epoch, Train_Loss=epoch_loss, LR=optimizer.param_groups[0]['lr'])\n",
    "    gc.collect()\n",
    "    \n",
    "    return epoch_loss"
   ]
  },
  {
   "cell_type": "markdown",
   "metadata": {},
   "source": [
    "### Validation function"
   ]
  },
  {
   "cell_type": "code",
   "execution_count": 13,
   "metadata": {},
   "outputs": [],
   "source": [
    "from sklearn.metrics import accuracy_score, mean_squared_error\n",
    "\n",
    "@torch.no_grad()\n",
    "def valid_one_epoch(model, optimizer, scheduler, dataloader, device, epoch):\n",
    "    model.eval()\n",
    "    \n",
    "    dataset_size = 0\n",
    "    running_loss = 0.0\n",
    "    \n",
    "    TARGETS = []\n",
    "    PREDS = []\n",
    "    \n",
    "    bar = tqdm(enumerate(dataloader), total=len(dataloader))\n",
    "    for step, (images, labels) in bar: \n",
    "        images = images.to(device)\n",
    "        labels = labels.to(device)\n",
    "        labels = torch.unsqueeze(labels, 1)\n",
    "        outputs = model(images)\n",
    "        loss = nn.MSELoss()(outputs, labels)\n",
    "        \n",
    "        batch_size = images.size(0)\n",
    "        running_loss += (loss.item() * batch_size)\n",
    "        dataset_size += batch_size\n",
    "        \n",
    "        epoch_loss = running_loss/dataset_size\n",
    "        \n",
    "        PREDS.append(outputs.cpu().detach().numpy())\n",
    "        TARGETS.append(labels.view(-1).cpu().detach().numpy())\n",
    "        \n",
    "        bar.set_postfix(Epoch=epoch, Valid_Loss=epoch_loss,\n",
    "                        LR=optimizer.param_groups[0]['lr'])   \n",
    "    \n",
    "    TARGETS = np.concatenate(TARGETS)\n",
    "    PREDS = np.concatenate(PREDS)\n",
    "    PREDS = np.squeeze(PREDS)\n",
    "    \n",
    "    print(\"max:\"+str(np.max( PREDS )))\n",
    "    print(\"mean:\"+str(np.mean( PREDS )))\n",
    "    print(\"min:\"+str(np.min( PREDS )))\n",
    "    \n",
    "    PREDS = PREDS.round()\n",
    "    val_auc = accuracy_score(TARGETS, PREDS) #roc_auc_score(TARGETS, PREDS)\n",
    "    mse_score = mean_squared_error(TARGETS, PREDS)\n",
    "    print(\"acc:\"+str( val_auc ) )\n",
    "    print(\"mse:\"+str( mse_score ) )\n",
    "    gc.collect()\n",
    "    \n",
    "    return epoch_loss , val_auc, mse_score"
   ]
  },
  {
   "cell_type": "markdown",
   "metadata": {},
   "source": [
    "### Run"
   ]
  },
  {
   "cell_type": "code",
   "execution_count": 14,
   "metadata": {},
   "outputs": [],
   "source": [
    "@logger.catch\n",
    "def run(model, optimizer, scheduler, train_loader, valid_loader, fold_i, test_imgs):   \n",
    "    device=CONFIG.device\n",
    "    num_epochs=CONFIG.epochs\n",
    "    patience = CONFIG.early_stopping\n",
    "    \n",
    "    start = time.time()\n",
    "    best_model_wts = copy.deepcopy(model.state_dict())\n",
    "    #best_epoch_auc = 0\n",
    "    best_epoch_auc = 1.0\n",
    "    best_epoch = 0\n",
    "    history = defaultdict(list)\n",
    "    \n",
    "    for epoch in range(1, num_epochs + 1): \n",
    "        gc.collect()\n",
    "        train_epoch_loss = train_one_epoch(model, optimizer, scheduler, \n",
    "                                           dataloader=train_loader, \n",
    "                                           device=CONFIG.device, epoch=epoch)\n",
    "        \n",
    "        valid_epoch_loss, acc_score, mse_score = valid_one_epoch(model, optimizer, scheduler,\n",
    "                                                            dataloader=valid_loader, \n",
    "                                                            device=CONFIG.device, epoch=epoch)\n",
    "    \n",
    "        history['Train Loss'].append(train_epoch_loss)\n",
    "        history['Valid Loss'].append(valid_epoch_loss)\n",
    "        \n",
    "        #history['Valid AUC'].append(acc_score) #valid_epoch_auc)\n",
    "        history['Valid AUC'].append(mse_score) #valid_epoch_auc)\n",
    "        \n",
    "        #print(f'Valid AUC: {valid_epoch_auc}')\n",
    "        \n",
    "        if scheduler is not None:\n",
    "            scheduler.step()\n",
    "        \n",
    "        ############## predict on test-set ################\n",
    "        PREDS_TEST  = []\n",
    "        ceil_step = int(test_imgs.shape[0] / 2) + int(test_imgs.shape[0] % 2 > 0)\n",
    "        for i in range(0, ceil_step):\n",
    "            start_step = i * 2\n",
    "            preds = model( torch.Tensor(test_imgs[start_step:start_step+2]).to(CONFIG.device) )\n",
    "            preds = preds.cpu().detach().numpy()\n",
    "            preds = preds.flatten()\n",
    "            PREDS_TEST.extend(preds.tolist())\n",
    "            \n",
    "        print(\"max:\"+str(np.max( PREDS_TEST )))\n",
    "        print(\"mean:\"+str(np.mean( PREDS_TEST )))\n",
    "        print(\"min:\"+str(np.min( PREDS_TEST )))\n",
    "        ROUNDED_PREDS_TEST = np.asarray(PREDS_TEST).round().astype('int')\n",
    "        print(\"test mse:\"+str( mean_squared_error(PREDS_TEST, test_age) )) \n",
    "        print(\"test acc:\"+str( accuracy_score(ROUNDED_PREDS_TEST.tolist(), test_age.tolist() ) )) \n",
    "        print(\"PREDS TYPE:\"+str(type(PREDS_TEST)))     \n",
    "        ############## END: predict on test-set ################            \n",
    "        \n",
    "        # deep copy the model\n",
    "        #if acc_score >= best_epoch_auc:\n",
    "        if mse_score <= best_epoch_auc:            \n",
    "            #print(f\"{b_}Validation AUC Improved ({best_epoch_auc} ---> {acc_score})\")\n",
    "            #best_epoch_auc = acc_score\n",
    "            print(f\"{b_}Validation AUC Improved ({best_epoch_auc} ---> {mse_score})\")\n",
    "            best_epoch_auc = mse_score\n",
    "            best_epoch = epoch\n",
    "            best_model_wts = copy.deepcopy(model.state_dict())\n",
    "            PATH = CONFIG.ROOTDIR +\"AUC{:.4f}_epoch{:.0f}_fold_{:.0f}.bin\".format(best_epoch_auc, epoch, fold_i)\n",
    "            torch.save(model.state_dict(), PATH)\n",
    "            print(\"Model Saved\")\n",
    "            \n",
    "        print()\n",
    "        if best_epoch < epoch - patience and epoch > 150:\n",
    "            break\n",
    "    \n",
    "    end = time.time()\n",
    "    time_elapsed = end - start\n",
    "    print('Training complete in {:.0f}h {:.0f}m {:.0f}s'.format(\n",
    "        time_elapsed // 3600, (time_elapsed % 3600) // 60, (time_elapsed % 3600) % 60))\n",
    "    print(\"Best AUC: {:.4f}\".format(best_epoch_auc))\n",
    "    \n",
    "    # load best model weights\n",
    "    model.load_state_dict(best_model_wts)\n",
    "    #print(model.classifier.weight[0:10,0])\n",
    "    \n",
    "    return model, history, best_model_wts"
   ]
  },
  {
   "cell_type": "markdown",
   "metadata": {},
   "source": [
    "### Train fold 0 to 5"
   ]
  },
  {
   "cell_type": "code",
   "execution_count": null,
   "metadata": {},
   "outputs": [
    {
     "name": "stdout",
     "output_type": "stream",
     "text": [
      "cuda:0\n",
      "150\n",
      "<class 'numpy.ndarray'>\n",
      "(515, 3, 384, 384)\n",
      "<class 'numpy.ndarray'>\n",
      "#########\n",
      "<class 'numpy.ndarray'>\n",
      "(4635, 3, 384, 384)\n",
      "test_img shape:(515, 3, 384, 384)\n",
      "test_img[0].shape:(3, 384, 384)\n",
      "max test_imgs0 value:0.70980394\n",
      "min test_imgs0 value:0.0\n"
     ]
    },
    {
     "name": "stderr",
     "output_type": "stream",
     "text": [
      "100%|██████████| 522/522 [01:27<00:00,  5.94it/s, Epoch=1, LR=1e-5, Train_Loss=1.43]\n",
      "100%|██████████| 58/58 [00:02<00:00, 20.60it/s, Epoch=1, LR=1e-5, Valid_Loss=1.1]  \n"
     ]
    },
    {
     "name": "stdout",
     "output_type": "stream",
     "text": [
      "max:11.510864\n",
      "mean:5.191407\n",
      "min:0.9397825\n",
      "acc:0.5150862068965517\n",
      "mse:1.1487069\n"
     ]
    },
    {
     "name": "stderr",
     "output_type": "stream",
     "text": [
      "  0%|          | 0/522 [00:00<?, ?it/s]"
     ]
    },
    {
     "name": "stdout",
     "output_type": "stream",
     "text": [
      "max:10.578424453735352\n",
      "mean:4.931600087476008\n",
      "min:0.8363866209983826\n",
      "test mse:1.0535231327695964\n",
      "test acc:0.4912621359223301\n",
      "PREDS TYPE:<class 'list'>\n",
      "\n"
     ]
    },
    {
     "name": "stderr",
     "output_type": "stream",
     "text": [
      "100%|██████████| 522/522 [01:27<00:00,  5.96it/s, Epoch=2, LR=9.78e-6, Train_Loss=0.148]\n",
      "100%|██████████| 58/58 [00:02<00:00, 20.71it/s, Epoch=2, LR=9.78e-6, Valid_Loss=0.785]\n"
     ]
    },
    {
     "name": "stdout",
     "output_type": "stream",
     "text": [
      "max:11.422174\n",
      "mean:5.396834\n",
      "min:0.9757332\n",
      "acc:0.5754310344827587\n",
      "mse:0.8987069\n",
      "max:11.628595352172852\n",
      "mean:5.134733193707698\n",
      "min:0.7983127236366272\n",
      "test mse:0.664273185903644\n",
      "test acc:0.5359223300970873\n",
      "PREDS TYPE:<class 'list'>\n",
      "\u001b[34mValidation AUC Improved (1.0 ---> 0.8987069129943848)\n"
     ]
    },
    {
     "name": "stderr",
     "output_type": "stream",
     "text": [
      "  0%|          | 1/522 [00:00<01:11,  7.25it/s, Epoch=3, LR=9.14e-6, Train_Loss=0.031]"
     ]
    },
    {
     "name": "stdout",
     "output_type": "stream",
     "text": [
      "Model Saved\n",
      "\n"
     ]
    },
    {
     "name": "stderr",
     "output_type": "stream",
     "text": [
      "100%|██████████| 522/522 [01:27<00:00,  5.97it/s, Epoch=3, LR=9.14e-6, Train_Loss=0.11] \n",
      "100%|██████████| 58/58 [00:02<00:00, 20.81it/s, Epoch=3, LR=9.14e-6, Valid_Loss=0.892]\n"
     ]
    },
    {
     "name": "stdout",
     "output_type": "stream",
     "text": [
      "max:10.815535\n",
      "mean:4.956901\n",
      "min:0.6262022\n",
      "acc:0.4525862068965517\n",
      "mse:1.0193965\n"
     ]
    },
    {
     "name": "stderr",
     "output_type": "stream",
     "text": [
      "  0%|          | 0/522 [00:00<?, ?it/s]"
     ]
    },
    {
     "name": "stdout",
     "output_type": "stream",
     "text": [
      "max:10.563693046569824\n",
      "mean:4.699704687919431\n",
      "min:0.5743100047111511\n",
      "test mse:0.7884439223025662\n",
      "test acc:0.4796116504854369\n",
      "PREDS TYPE:<class 'list'>\n",
      "\n"
     ]
    },
    {
     "name": "stderr",
     "output_type": "stream",
     "text": [
      "100%|██████████| 522/522 [01:27<00:00,  5.98it/s, Epoch=4, LR=8.15e-6, Train_Loss=0.0674]\n",
      "100%|██████████| 58/58 [00:02<00:00, 20.57it/s, Epoch=4, LR=8.15e-6, Valid_Loss=0.809]\n"
     ]
    },
    {
     "name": "stdout",
     "output_type": "stream",
     "text": [
      "max:11.23159\n",
      "mean:5.21516\n",
      "min:0.84542495\n",
      "acc:0.5948275862068966\n",
      "mse:0.8469828\n",
      "max:11.165867805480957\n",
      "mean:4.962986252030123\n",
      "min:0.851227343082428\n",
      "test mse:0.6407567119383831\n",
      "test acc:0.566990291262136\n",
      "PREDS TYPE:<class 'list'>\n",
      "\u001b[34mValidation AUC Improved (0.8987069129943848 ---> 0.8469827771186829)\n"
     ]
    },
    {
     "name": "stderr",
     "output_type": "stream",
     "text": [
      "  0%|          | 0/522 [00:00<?, ?it/s]"
     ]
    },
    {
     "name": "stdout",
     "output_type": "stream",
     "text": [
      "Model Saved\n",
      "\n"
     ]
    },
    {
     "name": "stderr",
     "output_type": "stream",
     "text": [
      "100%|██████████| 522/522 [01:28<00:00,  5.87it/s, Epoch=5, LR=6.89e-6, Train_Loss=0.0561]\n",
      "100%|██████████| 58/58 [00:02<00:00, 20.55it/s, Epoch=5, LR=6.89e-6, Valid_Loss=0.758]\n"
     ]
    },
    {
     "name": "stdout",
     "output_type": "stream",
     "text": [
      "max:11.001729\n",
      "mean:5.311178\n",
      "min:0.9182993\n",
      "acc:0.6099137931034483\n",
      "mse:0.82543105\n",
      "max:11.15718936920166\n",
      "mean:5.068129309982929\n",
      "min:0.8355637192726135\n",
      "test mse:0.566677042916327\n",
      "test acc:0.574757281553398\n",
      "PREDS TYPE:<class 'list'>\n",
      "\u001b[34mValidation AUC Improved (0.8469827771186829 ---> 0.8254310488700867)\n"
     ]
    },
    {
     "name": "stderr",
     "output_type": "stream",
     "text": [
      "  0%|          | 1/522 [00:00<01:12,  7.17it/s, Epoch=6, LR=5.5e-6, Train_Loss=0.0431]"
     ]
    },
    {
     "name": "stdout",
     "output_type": "stream",
     "text": [
      "Model Saved\n",
      "\n"
     ]
    },
    {
     "name": "stderr",
     "output_type": "stream",
     "text": [
      "100%|██████████| 522/522 [01:27<00:00,  5.93it/s, Epoch=6, LR=5.5e-6, Train_Loss=0.0502]\n",
      "100%|██████████| 58/58 [00:02<00:00, 20.43it/s, Epoch=6, LR=5.5e-6, Valid_Loss=0.663]\n"
     ]
    },
    {
     "name": "stdout",
     "output_type": "stream",
     "text": [
      "max:11.379254\n",
      "mean:5.3346915\n",
      "min:0.7670953\n",
      "acc:0.6422413793103449\n",
      "mse:0.7176724\n",
      "max:11.446937561035156\n",
      "mean:5.0818975445136285\n",
      "min:0.5224223732948303\n",
      "test mse:0.5217391993216398\n",
      "test acc:0.6155339805825243\n",
      "PREDS TYPE:<class 'list'>\n",
      "\u001b[34mValidation AUC Improved (0.8254310488700867 ---> 0.7176724076271057)\n"
     ]
    },
    {
     "name": "stderr",
     "output_type": "stream",
     "text": [
      "  0%|          | 1/522 [00:00<01:10,  7.38it/s, Epoch=7, LR=4.11e-6, Train_Loss=0.0287]"
     ]
    },
    {
     "name": "stdout",
     "output_type": "stream",
     "text": [
      "Model Saved\n",
      "\n"
     ]
    },
    {
     "name": "stderr",
     "output_type": "stream",
     "text": [
      "100%|██████████| 522/522 [01:27<00:00,  5.94it/s, Epoch=7, LR=4.11e-6, Train_Loss=0.0459]\n",
      "100%|██████████| 58/58 [00:02<00:00, 20.43it/s, Epoch=7, LR=4.11e-6, Valid_Loss=0.784]\n"
     ]
    },
    {
     "name": "stdout",
     "output_type": "stream",
     "text": [
      "max:11.618586\n",
      "mean:5.28856\n",
      "min:0.76166964\n",
      "acc:0.6293103448275862\n",
      "mse:0.8771552\n"
     ]
    },
    {
     "name": "stderr",
     "output_type": "stream",
     "text": [
      "  0%|          | 0/522 [00:00<?, ?it/s]"
     ]
    },
    {
     "name": "stdout",
     "output_type": "stream",
     "text": [
      "max:11.731172561645508\n",
      "mean:5.0353614352281815\n",
      "min:0.5593215227127075\n",
      "test mse:0.6058296927247067\n",
      "test acc:0.6233009708737864\n",
      "PREDS TYPE:<class 'list'>\n",
      "\n"
     ]
    },
    {
     "name": "stderr",
     "output_type": "stream",
     "text": [
      "100%|██████████| 522/522 [01:28<00:00,  5.90it/s, Epoch=8, LR=2.85e-6, Train_Loss=0.0441]\n",
      "100%|██████████| 58/58 [00:02<00:00, 20.56it/s, Epoch=8, LR=2.85e-6, Valid_Loss=0.647]\n"
     ]
    },
    {
     "name": "stdout",
     "output_type": "stream",
     "text": [
      "max:11.308887\n",
      "mean:5.299455\n",
      "min:0.7568606\n",
      "acc:0.6616379310344828\n",
      "mse:0.7112069\n",
      "max:11.541695594787598\n",
      "mean:5.047757553822786\n",
      "min:0.5928579568862915\n",
      "test mse:0.5403019351156996\n",
      "test acc:0.6213592233009708\n",
      "PREDS TYPE:<class 'list'>\n",
      "\u001b[34mValidation AUC Improved (0.7176724076271057 ---> 0.7112069129943848)\n"
     ]
    },
    {
     "name": "stderr",
     "output_type": "stream",
     "text": [
      "  0%|          | 0/522 [00:00<?, ?it/s]"
     ]
    },
    {
     "name": "stdout",
     "output_type": "stream",
     "text": [
      "Model Saved\n",
      "\n"
     ]
    },
    {
     "name": "stderr",
     "output_type": "stream",
     "text": [
      "100%|██████████| 522/522 [01:28<00:00,  5.90it/s, Epoch=9, LR=1.86e-6, Train_Loss=0.0426]\n",
      "100%|██████████| 58/58 [00:02<00:00, 20.67it/s, Epoch=9, LR=1.86e-6, Valid_Loss=0.921]\n"
     ]
    },
    {
     "name": "stdout",
     "output_type": "stream",
     "text": [
      "max:11.090151\n",
      "mean:5.0856037\n",
      "min:0.62972933\n",
      "acc:0.5948275862068966\n",
      "mse:0.98922414\n"
     ]
    },
    {
     "name": "stderr",
     "output_type": "stream",
     "text": [
      "  0%|          | 0/522 [00:00<?, ?it/s]"
     ]
    },
    {
     "name": "stdout",
     "output_type": "stream",
     "text": [
      "max:11.466127395629883\n",
      "mean:4.845925448010269\n",
      "min:0.5071412920951843\n",
      "test mse:0.7541946457818283\n",
      "test acc:0.5864077669902913\n",
      "PREDS TYPE:<class 'list'>\n",
      "\n"
     ]
    },
    {
     "name": "stderr",
     "output_type": "stream",
     "text": [
      "100%|██████████| 522/522 [01:27<00:00,  5.94it/s, Epoch=10, LR=1.22e-6, Train_Loss=0.0419]\n",
      "100%|██████████| 58/58 [00:02<00:00, 20.60it/s, Epoch=10, LR=1.22e-6, Valid_Loss=0.538]\n"
     ]
    },
    {
     "name": "stdout",
     "output_type": "stream",
     "text": [
      "max:11.630121\n",
      "mean:5.3231115\n",
      "min:0.7375767\n",
      "acc:0.6379310344827587\n",
      "mse:0.5948276\n",
      "max:11.652105331420898\n",
      "mean:5.058519262480504\n",
      "min:0.7360786199569702\n",
      "test mse:0.44160355664180756\n",
      "test acc:0.6233009708737864\n",
      "PREDS TYPE:<class 'list'>\n",
      "\u001b[34mValidation AUC Improved (0.7112069129943848 ---> 0.5948275923728943)\n"
     ]
    },
    {
     "name": "stderr",
     "output_type": "stream",
     "text": [
      "  0%|          | 1/522 [00:00<01:08,  7.59it/s, Epoch=11, LR=1e-6, Train_Loss=0.0211]"
     ]
    },
    {
     "name": "stdout",
     "output_type": "stream",
     "text": [
      "Model Saved\n",
      "\n"
     ]
    },
    {
     "name": "stderr",
     "output_type": "stream",
     "text": [
      "100%|██████████| 522/522 [01:27<00:00,  5.95it/s, Epoch=11, LR=1e-6, Train_Loss=0.0425]\n",
      "100%|██████████| 58/58 [00:02<00:00, 20.79it/s, Epoch=11, LR=1e-6, Valid_Loss=0.766]\n"
     ]
    },
    {
     "name": "stdout",
     "output_type": "stream",
     "text": [
      "max:11.535699\n",
      "mean:5.3343883\n",
      "min:0.7616556\n",
      "acc:0.6637931034482759\n",
      "mse:0.8060345\n"
     ]
    },
    {
     "name": "stderr",
     "output_type": "stream",
     "text": [
      "  0%|          | 0/522 [00:00<?, ?it/s]"
     ]
    },
    {
     "name": "stdout",
     "output_type": "stream",
     "text": [
      "max:11.727828979492188\n",
      "mean:5.080105947985232\n",
      "min:0.5639552474021912\n",
      "test mse:0.5919369718256055\n",
      "test acc:0.6116504854368932\n",
      "PREDS TYPE:<class 'list'>\n",
      "\n"
     ]
    },
    {
     "name": "stderr",
     "output_type": "stream",
     "text": [
      "100%|██████████| 522/522 [01:28<00:00,  5.93it/s, Epoch=12, LR=1.22e-6, Train_Loss=0.0405]\n",
      "100%|██████████| 58/58 [00:02<00:00, 20.37it/s, Epoch=12, LR=1.22e-6, Valid_Loss=0.7]  \n"
     ]
    },
    {
     "name": "stdout",
     "output_type": "stream",
     "text": [
      "max:11.277359\n",
      "mean:5.1389785\n",
      "min:0.652131\n",
      "acc:0.6077586206896551\n",
      "mse:0.7521552\n"
     ]
    },
    {
     "name": "stderr",
     "output_type": "stream",
     "text": [
      "  0%|          | 0/522 [00:00<?, ?it/s]"
     ]
    },
    {
     "name": "stdout",
     "output_type": "stream",
     "text": [
      "max:11.272188186645508\n",
      "mean:4.885120364994679\n",
      "min:0.6036046147346497\n",
      "test mse:0.631928546922699\n",
      "test acc:0.6058252427184466\n",
      "PREDS TYPE:<class 'list'>\n",
      "\n"
     ]
    },
    {
     "name": "stderr",
     "output_type": "stream",
     "text": [
      "100%|██████████| 522/522 [01:28<00:00,  5.88it/s, Epoch=13, LR=1.86e-6, Train_Loss=0.0412]\n",
      "100%|██████████| 58/58 [00:02<00:00, 20.84it/s, Epoch=13, LR=1.86e-6, Valid_Loss=0.674]\n"
     ]
    },
    {
     "name": "stdout",
     "output_type": "stream",
     "text": [
      "max:11.531432\n",
      "mean:5.3622146\n",
      "min:0.77915937\n",
      "acc:0.6594827586206896\n",
      "mse:0.73060346\n"
     ]
    },
    {
     "name": "stderr",
     "output_type": "stream",
     "text": [
      "  0%|          | 0/522 [00:00<?, ?it/s]"
     ]
    },
    {
     "name": "stdout",
     "output_type": "stream",
     "text": [
      "max:12.028494834899902\n",
      "mean:5.100865475645343\n",
      "min:0.5296072363853455\n",
      "test mse:0.5350112144681913\n",
      "test acc:0.6\n",
      "PREDS TYPE:<class 'list'>\n",
      "\n"
     ]
    },
    {
     "name": "stderr",
     "output_type": "stream",
     "text": [
      "100%|██████████| 522/522 [01:28<00:00,  5.88it/s, Epoch=14, LR=2.85e-6, Train_Loss=0.0405]\n",
      "100%|██████████| 58/58 [00:02<00:00, 20.48it/s, Epoch=14, LR=2.85e-6, Valid_Loss=0.775]\n"
     ]
    },
    {
     "name": "stdout",
     "output_type": "stream",
     "text": [
      "max:11.133757\n",
      "mean:5.272191\n",
      "min:0.90810776\n",
      "acc:0.6293103448275862\n",
      "mse:0.82543105\n"
     ]
    },
    {
     "name": "stderr",
     "output_type": "stream",
     "text": [
      "  0%|          | 0/522 [00:00<?, ?it/s]"
     ]
    },
    {
     "name": "stdout",
     "output_type": "stream",
     "text": [
      "max:11.137020111083984\n",
      "mean:5.027099656132818\n",
      "min:0.6369034647941589\n",
      "test mse:0.613065398136229\n",
      "test acc:0.6135922330097088\n",
      "PREDS TYPE:<class 'list'>\n",
      "\n"
     ]
    },
    {
     "name": "stderr",
     "output_type": "stream",
     "text": [
      "100%|██████████| 522/522 [01:28<00:00,  5.87it/s, Epoch=15, LR=4.11e-6, Train_Loss=0.0411]\n",
      "100%|██████████| 58/58 [00:02<00:00, 20.59it/s, Epoch=15, LR=4.11e-6, Valid_Loss=0.915]\n"
     ]
    },
    {
     "name": "stdout",
     "output_type": "stream",
     "text": [
      "max:10.957434\n",
      "mean:5.103162\n",
      "min:0.44395176\n",
      "acc:0.5775862068965517\n",
      "mse:1.0280173\n"
     ]
    },
    {
     "name": "stderr",
     "output_type": "stream",
     "text": [
      "  0%|          | 0/522 [00:00<?, ?it/s]"
     ]
    },
    {
     "name": "stdout",
     "output_type": "stream",
     "text": [
      "max:11.319908142089844\n",
      "mean:4.8834305127268856\n",
      "min:0.45225802063941956\n",
      "test mse:0.7349209875853203\n",
      "test acc:0.596116504854369\n",
      "PREDS TYPE:<class 'list'>\n",
      "\n"
     ]
    },
    {
     "name": "stderr",
     "output_type": "stream",
     "text": [
      "100%|██████████| 522/522 [01:28<00:00,  5.90it/s, Epoch=16, LR=5.5e-6, Train_Loss=0.0406]\n",
      "100%|██████████| 58/58 [00:02<00:00, 20.54it/s, Epoch=16, LR=5.5e-6, Valid_Loss=0.514]\n"
     ]
    },
    {
     "name": "stdout",
     "output_type": "stream",
     "text": [
      "max:11.59193\n",
      "mean:5.3424587\n",
      "min:0.7684303\n",
      "acc:0.6530172413793104\n",
      "mse:0.5862069\n",
      "max:12.027462005615234\n",
      "mean:5.084701404988187\n",
      "min:0.6563483476638794\n",
      "test mse:0.48158846321127236\n",
      "test acc:0.6116504854368932\n",
      "PREDS TYPE:<class 'list'>\n",
      "\u001b[34mValidation AUC Improved (0.5948275923728943 ---> 0.5862069129943848)\n"
     ]
    },
    {
     "name": "stderr",
     "output_type": "stream",
     "text": [
      "  0%|          | 0/522 [00:00<?, ?it/s]"
     ]
    },
    {
     "name": "stdout",
     "output_type": "stream",
     "text": [
      "Model Saved\n",
      "\n"
     ]
    },
    {
     "name": "stderr",
     "output_type": "stream",
     "text": [
      "100%|██████████| 522/522 [01:29<00:00,  5.84it/s, Epoch=17, LR=6.89e-6, Train_Loss=0.0406]\n",
      "100%|██████████| 58/58 [00:02<00:00, 20.42it/s, Epoch=17, LR=6.89e-6, Valid_Loss=0.525]\n"
     ]
    },
    {
     "name": "stdout",
     "output_type": "stream",
     "text": [
      "max:11.470537\n",
      "mean:5.3766985\n",
      "min:0.8889617\n",
      "acc:0.6637931034482759\n",
      "mse:0.6012931\n"
     ]
    },
    {
     "name": "stderr",
     "output_type": "stream",
     "text": [
      "  0%|          | 0/522 [00:00<?, ?it/s]"
     ]
    },
    {
     "name": "stdout",
     "output_type": "stream",
     "text": [
      "max:11.28515625\n",
      "mean:5.1166907546589675\n",
      "min:0.6679794192314148\n",
      "test mse:0.4964131047123251\n",
      "test acc:0.6097087378640776\n",
      "PREDS TYPE:<class 'list'>\n",
      "\n"
     ]
    },
    {
     "name": "stderr",
     "output_type": "stream",
     "text": [
      "100%|██████████| 522/522 [01:28<00:00,  5.91it/s, Epoch=18, LR=8.15e-6, Train_Loss=0.0409]\n",
      "100%|██████████| 58/58 [00:02<00:00, 20.61it/s, Epoch=18, LR=8.15e-6, Valid_Loss=0.752]\n"
     ]
    },
    {
     "name": "stdout",
     "output_type": "stream",
     "text": [
      "max:11.411484\n",
      "mean:5.237488\n",
      "min:0.6678765\n",
      "acc:0.6508620689655172\n",
      "mse:0.79741377\n"
     ]
    },
    {
     "name": "stderr",
     "output_type": "stream",
     "text": [
      "  0%|          | 0/522 [00:00<?, ?it/s]"
     ]
    },
    {
     "name": "stdout",
     "output_type": "stream",
     "text": [
      "max:11.442556381225586\n",
      "mean:4.986794403224316\n",
      "min:0.5977396965026855\n",
      "test mse:0.5988674021692871\n",
      "test acc:0.6174757281553398\n",
      "PREDS TYPE:<class 'list'>\n",
      "\n"
     ]
    },
    {
     "name": "stderr",
     "output_type": "stream",
     "text": [
      "100%|██████████| 522/522 [01:28<00:00,  5.88it/s, Epoch=19, LR=9.14e-6, Train_Loss=0.0397]\n",
      "100%|██████████| 58/58 [00:02<00:00, 20.58it/s, Epoch=19, LR=9.14e-6, Valid_Loss=0.695]\n"
     ]
    },
    {
     "name": "stdout",
     "output_type": "stream",
     "text": [
      "max:12.328316\n",
      "mean:5.4067655\n",
      "min:0.44139457\n",
      "acc:0.665948275862069\n",
      "mse:0.74568963\n"
     ]
    },
    {
     "name": "stderr",
     "output_type": "stream",
     "text": [
      "  0%|          | 0/522 [00:00<?, ?it/s]"
     ]
    },
    {
     "name": "stdout",
     "output_type": "stream",
     "text": [
      "max:12.206999778747559\n",
      "mean:5.129080789066055\n",
      "min:0.5994539856910706\n",
      "test mse:0.5466284291721254\n",
      "test acc:0.6194174757281553\n",
      "PREDS TYPE:<class 'list'>\n",
      "\n"
     ]
    },
    {
     "name": "stderr",
     "output_type": "stream",
     "text": [
      "100%|██████████| 522/522 [01:27<00:00,  5.93it/s, Epoch=20, LR=9.78e-6, Train_Loss=0.0373]\n",
      "100%|██████████| 58/58 [00:02<00:00, 20.74it/s, Epoch=20, LR=9.78e-6, Valid_Loss=0.732]\n"
     ]
    },
    {
     "name": "stdout",
     "output_type": "stream",
     "text": [
      "max:11.899006\n",
      "mean:5.2778773\n",
      "min:0.4780599\n",
      "acc:0.6530172413793104\n",
      "mse:0.7844828\n"
     ]
    },
    {
     "name": "stderr",
     "output_type": "stream",
     "text": [
      "  0%|          | 0/522 [00:00<?, ?it/s]"
     ]
    },
    {
     "name": "stdout",
     "output_type": "stream",
     "text": [
      "max:11.704124450683594\n",
      "mean:5.02133571036811\n",
      "min:0.4349227547645569\n",
      "test mse:0.5499002535380014\n",
      "test acc:0.6116504854368932\n",
      "PREDS TYPE:<class 'list'>\n",
      "\n"
     ]
    },
    {
     "name": "stderr",
     "output_type": "stream",
     "text": [
      "100%|██████████| 522/522 [01:28<00:00,  5.90it/s, Epoch=21, LR=1e-5, Train_Loss=0.0357]\n",
      "100%|██████████| 58/58 [00:02<00:00, 20.71it/s, Epoch=21, LR=1e-5, Valid_Loss=0.738]\n"
     ]
    },
    {
     "name": "stdout",
     "output_type": "stream",
     "text": [
      "max:12.226973\n",
      "mean:5.407195\n",
      "min:0.6393049\n",
      "acc:0.6594827586206896\n",
      "mse:0.7478448\n"
     ]
    },
    {
     "name": "stderr",
     "output_type": "stream",
     "text": [
      "  0%|          | 0/522 [00:00<?, ?it/s]"
     ]
    },
    {
     "name": "stdout",
     "output_type": "stream",
     "text": [
      "max:12.185035705566406\n",
      "mean:5.135093792896826\n",
      "min:0.4323577880859375\n",
      "test mse:0.558753050245688\n",
      "test acc:0.6407766990291263\n",
      "PREDS TYPE:<class 'list'>\n",
      "\n"
     ]
    },
    {
     "name": "stderr",
     "output_type": "stream",
     "text": [
      "100%|██████████| 522/522 [01:28<00:00,  5.89it/s, Epoch=22, LR=9.78e-6, Train_Loss=0.0336]\n",
      "100%|██████████| 58/58 [00:02<00:00, 20.74it/s, Epoch=22, LR=9.78e-6, Valid_Loss=0.7]  \n"
     ]
    },
    {
     "name": "stdout",
     "output_type": "stream",
     "text": [
      "max:10.956279\n",
      "mean:5.2616916\n",
      "min:0.7351304\n",
      "acc:0.6336206896551724\n",
      "mse:0.7198276\n"
     ]
    },
    {
     "name": "stderr",
     "output_type": "stream",
     "text": [
      "  0%|          | 0/522 [00:00<?, ?it/s]"
     ]
    },
    {
     "name": "stdout",
     "output_type": "stream",
     "text": [
      "max:10.972698211669922\n",
      "mean:4.993191679820273\n",
      "min:0.6579017639160156\n",
      "test mse:0.5821478224619279\n",
      "test acc:0.654368932038835\n",
      "PREDS TYPE:<class 'list'>\n",
      "\n"
     ]
    },
    {
     "name": "stderr",
     "output_type": "stream",
     "text": [
      "100%|██████████| 522/522 [01:29<00:00,  5.86it/s, Epoch=23, LR=9.14e-6, Train_Loss=0.0328]\n",
      "100%|██████████| 58/58 [00:02<00:00, 20.20it/s, Epoch=23, LR=9.14e-6, Valid_Loss=0.777]\n"
     ]
    },
    {
     "name": "stdout",
     "output_type": "stream",
     "text": [
      "max:11.480642\n",
      "mean:5.364843\n",
      "min:0.6147808\n",
      "acc:0.6336206896551724\n",
      "mse:0.81681037\n"
     ]
    },
    {
     "name": "stderr",
     "output_type": "stream",
     "text": [
      "  0%|          | 0/522 [00:00<?, ?it/s]"
     ]
    },
    {
     "name": "stdout",
     "output_type": "stream",
     "text": [
      "max:11.590866088867188\n",
      "mean:5.080577318760955\n",
      "min:0.6441135406494141\n",
      "test mse:0.6058640562117248\n",
      "test acc:0.6233009708737864\n",
      "PREDS TYPE:<class 'list'>\n",
      "\n"
     ]
    },
    {
     "name": "stderr",
     "output_type": "stream",
     "text": [
      "100%|██████████| 522/522 [01:29<00:00,  5.85it/s, Epoch=24, LR=8.15e-6, Train_Loss=0.0295]\n",
      "100%|██████████| 58/58 [00:02<00:00, 20.85it/s, Epoch=24, LR=8.15e-6, Valid_Loss=0.79] \n"
     ]
    },
    {
     "name": "stdout",
     "output_type": "stream",
     "text": [
      "max:11.774312\n",
      "mean:5.5494456\n",
      "min:0.6034279\n",
      "acc:0.6206896551724138\n",
      "mse:0.9051724\n"
     ]
    },
    {
     "name": "stderr",
     "output_type": "stream",
     "text": [
      "  0%|          | 0/522 [00:00<?, ?it/s]"
     ]
    },
    {
     "name": "stdout",
     "output_type": "stream",
     "text": [
      "max:12.099654197692871\n",
      "mean:5.296220923858939\n",
      "min:0.6208353638648987\n",
      "test mse:0.5744888156689971\n",
      "test acc:0.6077669902912621\n",
      "PREDS TYPE:<class 'list'>\n",
      "\n"
     ]
    },
    {
     "name": "stderr",
     "output_type": "stream",
     "text": [
      "100%|██████████| 522/522 [01:28<00:00,  5.89it/s, Epoch=25, LR=6.89e-6, Train_Loss=0.0266]\n",
      "100%|██████████| 58/58 [00:02<00:00, 20.64it/s, Epoch=25, LR=6.89e-6, Valid_Loss=0.659]\n"
     ]
    },
    {
     "name": "stdout",
     "output_type": "stream",
     "text": [
      "max:11.965742\n",
      "mean:5.342429\n",
      "min:0.6793531\n",
      "acc:0.6681034482758621\n",
      "mse:0.73275864\n"
     ]
    },
    {
     "name": "stderr",
     "output_type": "stream",
     "text": [
      "  0%|          | 0/522 [00:00<?, ?it/s]"
     ]
    },
    {
     "name": "stdout",
     "output_type": "stream",
     "text": [
      "max:12.007030487060547\n",
      "mean:5.076095748179167\n",
      "min:0.6833392381668091\n",
      "test mse:0.47861121531680245\n",
      "test acc:0.6504854368932039\n",
      "PREDS TYPE:<class 'list'>\n",
      "\n"
     ]
    },
    {
     "name": "stderr",
     "output_type": "stream",
     "text": [
      "100%|██████████| 522/522 [01:28<00:00,  5.93it/s, Epoch=26, LR=5.5e-6, Train_Loss=0.0264]\n",
      "100%|██████████| 58/58 [00:02<00:00, 20.50it/s, Epoch=26, LR=5.5e-6, Valid_Loss=0.734]\n"
     ]
    },
    {
     "name": "stdout",
     "output_type": "stream",
     "text": [
      "max:11.137018\n",
      "mean:5.354099\n",
      "min:0.70394003\n",
      "acc:0.6594827586206896\n",
      "mse:0.79956895\n"
     ]
    },
    {
     "name": "stderr",
     "output_type": "stream",
     "text": [
      "  0%|          | 0/522 [00:00<?, ?it/s]"
     ]
    },
    {
     "name": "stdout",
     "output_type": "stream",
     "text": [
      "max:11.66639518737793\n",
      "mean:5.090007488357211\n",
      "min:0.7333250045776367\n",
      "test mse:0.5232167843703801\n",
      "test acc:0.6504854368932039\n",
      "PREDS TYPE:<class 'list'>\n",
      "\n"
     ]
    },
    {
     "name": "stderr",
     "output_type": "stream",
     "text": [
      "100%|██████████| 522/522 [01:28<00:00,  5.90it/s, Epoch=27, LR=4.11e-6, Train_Loss=0.0244]\n",
      "100%|██████████| 58/58 [00:02<00:00, 20.56it/s, Epoch=27, LR=4.11e-6, Valid_Loss=0.677]\n"
     ]
    },
    {
     "name": "stdout",
     "output_type": "stream",
     "text": [
      "max:11.518237\n",
      "mean:5.262685\n",
      "min:0.71779794\n",
      "acc:0.6530172413793104\n",
      "mse:0.7413793\n"
     ]
    },
    {
     "name": "stderr",
     "output_type": "stream",
     "text": [
      "  0%|          | 0/522 [00:00<?, ?it/s]"
     ]
    },
    {
     "name": "stdout",
     "output_type": "stream",
     "text": [
      "max:12.42491626739502\n",
      "mean:4.985305586138975\n",
      "min:0.7484902143478394\n",
      "test mse:0.5331155092257631\n",
      "test acc:0.625242718446602\n",
      "PREDS TYPE:<class 'list'>\n",
      "\n"
     ]
    },
    {
     "name": "stderr",
     "output_type": "stream",
     "text": [
      "100%|██████████| 522/522 [01:27<00:00,  5.94it/s, Epoch=28, LR=2.85e-6, Train_Loss=0.0238]\n",
      "100%|██████████| 58/58 [00:02<00:00, 20.68it/s, Epoch=28, LR=2.85e-6, Valid_Loss=0.722]\n"
     ]
    },
    {
     "name": "stdout",
     "output_type": "stream",
     "text": [
      "max:11.530037\n",
      "mean:5.3816833\n",
      "min:0.76715267\n",
      "acc:0.6594827586206896\n",
      "mse:0.7780172\n"
     ]
    },
    {
     "name": "stderr",
     "output_type": "stream",
     "text": [
      "  0%|          | 0/522 [00:00<?, ?it/s]"
     ]
    },
    {
     "name": "stdout",
     "output_type": "stream",
     "text": [
      "max:12.320158004760742\n",
      "mean:5.131860337211091\n",
      "min:0.8060296177864075\n",
      "test mse:0.5764084814219561\n",
      "test acc:0.6504854368932039\n",
      "PREDS TYPE:<class 'list'>\n",
      "\n"
     ]
    },
    {
     "name": "stderr",
     "output_type": "stream",
     "text": [
      "100%|██████████| 522/522 [01:28<00:00,  5.89it/s, Epoch=29, LR=1.86e-6, Train_Loss=0.0219]\n",
      "100%|██████████| 58/58 [00:02<00:00, 20.65it/s, Epoch=29, LR=1.86e-6, Valid_Loss=0.546]\n"
     ]
    },
    {
     "name": "stdout",
     "output_type": "stream",
     "text": [
      "max:11.300425\n",
      "mean:5.426748\n",
      "min:0.7300432\n",
      "acc:0.6616379310344828\n",
      "mse:0.5948276\n"
     ]
    },
    {
     "name": "stderr",
     "output_type": "stream",
     "text": [
      "  0%|          | 0/522 [00:00<?, ?it/s]"
     ]
    },
    {
     "name": "stdout",
     "output_type": "stream",
     "text": [
      "max:11.715703010559082\n",
      "mean:5.142994561241668\n",
      "min:0.7781081199645996\n",
      "test mse:0.4518283200322995\n",
      "test acc:0.6427184466019418\n",
      "PREDS TYPE:<class 'list'>\n",
      "\n"
     ]
    },
    {
     "name": "stderr",
     "output_type": "stream",
     "text": [
      "100%|██████████| 522/522 [01:28<00:00,  5.92it/s, Epoch=30, LR=1.22e-6, Train_Loss=0.0214]\n",
      "100%|██████████| 58/58 [00:02<00:00, 20.69it/s, Epoch=30, LR=1.22e-6, Valid_Loss=0.59] \n"
     ]
    },
    {
     "name": "stdout",
     "output_type": "stream",
     "text": [
      "max:11.245227\n",
      "mean:5.3257074\n",
      "min:0.6946577\n",
      "acc:0.6681034482758621\n",
      "mse:0.6487069\n"
     ]
    },
    {
     "name": "stderr",
     "output_type": "stream",
     "text": [
      "  0%|          | 0/522 [00:00<?, ?it/s]"
     ]
    },
    {
     "name": "stdout",
     "output_type": "stream",
     "text": [
      "max:11.667862892150879\n",
      "mean:5.04760501060671\n",
      "min:0.7116143107414246\n",
      "test mse:0.4739009624929639\n",
      "test acc:0.6310679611650486\n",
      "PREDS TYPE:<class 'list'>\n",
      "\n"
     ]
    },
    {
     "name": "stderr",
     "output_type": "stream",
     "text": [
      "100%|██████████| 522/522 [01:29<00:00,  5.86it/s, Epoch=31, LR=1e-6, Train_Loss=0.0216]\n",
      "100%|██████████| 58/58 [00:02<00:00, 20.47it/s, Epoch=31, LR=1e-6, Valid_Loss=0.712]\n"
     ]
    },
    {
     "name": "stdout",
     "output_type": "stream",
     "text": [
      "max:11.224447\n",
      "mean:5.319544\n",
      "min:0.6726008\n",
      "acc:0.6551724137931034\n",
      "mse:0.8103448\n"
     ]
    },
    {
     "name": "stderr",
     "output_type": "stream",
     "text": [
      "  0%|          | 0/522 [00:00<?, ?it/s]"
     ]
    },
    {
     "name": "stdout",
     "output_type": "stream",
     "text": [
      "max:11.85925006866455\n",
      "mean:5.0504096474462346\n",
      "min:0.7324027419090271\n",
      "test mse:0.5303558642387207\n",
      "test acc:0.6388349514563106\n",
      "PREDS TYPE:<class 'list'>\n",
      "\n"
     ]
    },
    {
     "name": "stderr",
     "output_type": "stream",
     "text": [
      "100%|██████████| 522/522 [01:27<00:00,  5.94it/s, Epoch=32, LR=1.22e-6, Train_Loss=0.021] \n",
      "100%|██████████| 58/58 [00:02<00:00, 20.59it/s, Epoch=32, LR=1.22e-6, Valid_Loss=0.733]\n"
     ]
    },
    {
     "name": "stdout",
     "output_type": "stream",
     "text": [
      "max:11.252412\n",
      "mean:5.402027\n",
      "min:0.69464827\n",
      "acc:0.6530172413793104\n",
      "mse:0.8060345\n"
     ]
    },
    {
     "name": "stderr",
     "output_type": "stream",
     "text": [
      "  0%|          | 0/522 [00:00<?, ?it/s]"
     ]
    },
    {
     "name": "stdout",
     "output_type": "stream",
     "text": [
      "max:11.489407539367676\n",
      "mean:5.121686648165138\n",
      "min:0.7180777192115784\n",
      "test mse:0.5433431454614202\n",
      "test acc:0.6485436893203883\n",
      "PREDS TYPE:<class 'list'>\n",
      "\n"
     ]
    },
    {
     "name": "stderr",
     "output_type": "stream",
     "text": [
      "100%|██████████| 522/522 [01:28<00:00,  5.87it/s, Epoch=33, LR=1.86e-6, Train_Loss=0.0206]\n",
      "100%|██████████| 58/58 [00:02<00:00, 20.24it/s, Epoch=33, LR=1.86e-6, Valid_Loss=0.759]\n"
     ]
    },
    {
     "name": "stdout",
     "output_type": "stream",
     "text": [
      "max:11.283642\n",
      "mean:5.3096914\n",
      "min:0.66334796\n",
      "acc:0.6594827586206896\n",
      "mse:0.82974136\n"
     ]
    },
    {
     "name": "stderr",
     "output_type": "stream",
     "text": [
      "  0%|          | 0/522 [00:00<?, ?it/s]"
     ]
    },
    {
     "name": "stdout",
     "output_type": "stream",
     "text": [
      "max:11.717171669006348\n",
      "mean:5.034716192148264\n",
      "min:0.6652787923812866\n",
      "test mse:0.5644302798363662\n",
      "test acc:0.6368932038834951\n",
      "PREDS TYPE:<class 'list'>\n",
      "\n"
     ]
    },
    {
     "name": "stderr",
     "output_type": "stream",
     "text": [
      "100%|██████████| 522/522 [01:28<00:00,  5.88it/s, Epoch=34, LR=2.85e-6, Train_Loss=0.022] \n",
      "100%|██████████| 58/58 [00:02<00:00, 20.53it/s, Epoch=34, LR=2.85e-6, Valid_Loss=0.694]\n"
     ]
    },
    {
     "name": "stdout",
     "output_type": "stream",
     "text": [
      "max:11.4394455\n",
      "mean:5.3996844\n",
      "min:0.6612718\n",
      "acc:0.6551724137931034\n",
      "mse:0.74568963\n"
     ]
    },
    {
     "name": "stderr",
     "output_type": "stream",
     "text": [
      "  0%|          | 0/522 [00:00<?, ?it/s]"
     ]
    },
    {
     "name": "stdout",
     "output_type": "stream",
     "text": [
      "max:12.057229042053223\n",
      "mean:5.120427169151677\n",
      "min:0.7249787449836731\n",
      "test mse:0.49076264888354776\n",
      "test acc:0.6407766990291263\n",
      "PREDS TYPE:<class 'list'>\n",
      "\n"
     ]
    },
    {
     "name": "stderr",
     "output_type": "stream",
     "text": [
      "100%|██████████| 522/522 [01:28<00:00,  5.90it/s, Epoch=35, LR=4.11e-6, Train_Loss=0.0209]\n",
      "100%|██████████| 58/58 [00:02<00:00, 20.32it/s, Epoch=35, LR=4.11e-6, Valid_Loss=0.754]\n"
     ]
    },
    {
     "name": "stdout",
     "output_type": "stream",
     "text": [
      "max:11.271602\n",
      "mean:5.3245754\n",
      "min:0.63498205\n",
      "acc:0.646551724137931\n",
      "mse:0.82327586\n"
     ]
    },
    {
     "name": "stderr",
     "output_type": "stream",
     "text": [
      "  0%|          | 0/522 [00:00<?, ?it/s]"
     ]
    },
    {
     "name": "stdout",
     "output_type": "stream",
     "text": [
      "max:11.883042335510254\n",
      "mean:5.05888097506125\n",
      "min:0.6842703819274902\n",
      "test mse:0.552475793430097\n",
      "test acc:0.6368932038834951\n",
      "PREDS TYPE:<class 'list'>\n",
      "\n"
     ]
    },
    {
     "name": "stderr",
     "output_type": "stream",
     "text": [
      "100%|██████████| 522/522 [01:28<00:00,  5.87it/s, Epoch=36, LR=5.5e-6, Train_Loss=0.0213]\n",
      "100%|██████████| 58/58 [00:02<00:00, 20.64it/s, Epoch=36, LR=5.5e-6, Valid_Loss=0.695]\n"
     ]
    },
    {
     "name": "stdout",
     "output_type": "stream",
     "text": [
      "max:11.180733\n",
      "mean:5.2253013\n",
      "min:0.7177164\n",
      "acc:0.625\n",
      "mse:0.7715517\n"
     ]
    },
    {
     "name": "stderr",
     "output_type": "stream",
     "text": [
      "  0%|          | 0/522 [00:00<?, ?it/s]"
     ]
    },
    {
     "name": "stdout",
     "output_type": "stream",
     "text": [
      "max:11.519806861877441\n",
      "mean:4.965660183985256\n",
      "min:0.7182981967926025\n",
      "test mse:0.5334785024660119\n",
      "test acc:0.629126213592233\n",
      "PREDS TYPE:<class 'list'>\n",
      "\n"
     ]
    },
    {
     "name": "stderr",
     "output_type": "stream",
     "text": [
      "100%|██████████| 522/522 [01:28<00:00,  5.91it/s, Epoch=37, LR=6.89e-6, Train_Loss=0.0228]\n",
      "100%|██████████| 58/58 [00:02<00:00, 20.36it/s, Epoch=37, LR=6.89e-6, Valid_Loss=0.783]\n"
     ]
    },
    {
     "name": "stdout",
     "output_type": "stream",
     "text": [
      "max:10.816347\n",
      "mean:5.3094697\n",
      "min:0.67886883\n",
      "acc:0.6573275862068966\n",
      "mse:0.8491379\n"
     ]
    },
    {
     "name": "stderr",
     "output_type": "stream",
     "text": [
      "  0%|          | 0/522 [00:00<?, ?it/s]"
     ]
    },
    {
     "name": "stdout",
     "output_type": "stream",
     "text": [
      "max:11.175945281982422\n",
      "mean:5.043989790874777\n",
      "min:0.7471497654914856\n",
      "test mse:0.6312383878740908\n",
      "test acc:0.6194174757281553\n",
      "PREDS TYPE:<class 'list'>\n",
      "\n"
     ]
    },
    {
     "name": "stderr",
     "output_type": "stream",
     "text": [
      "100%|██████████| 522/522 [01:28<00:00,  5.90it/s, Epoch=38, LR=8.15e-6, Train_Loss=0.0225]\n",
      "100%|██████████| 58/58 [00:02<00:00, 20.29it/s, Epoch=38, LR=8.15e-6, Valid_Loss=0.647]\n"
     ]
    },
    {
     "name": "stdout",
     "output_type": "stream",
     "text": [
      "max:11.574833\n",
      "mean:5.2960825\n",
      "min:0.66848856\n",
      "acc:0.6551724137931034\n",
      "mse:0.69181037\n"
     ]
    },
    {
     "name": "stderr",
     "output_type": "stream",
     "text": [
      "  0%|          | 0/522 [00:00<?, ?it/s]"
     ]
    },
    {
     "name": "stdout",
     "output_type": "stream",
     "text": [
      "max:11.818707466125488\n",
      "mean:5.026895236274571\n",
      "min:0.7195257544517517\n",
      "test mse:0.5034288431613408\n",
      "test acc:0.6368932038834951\n",
      "PREDS TYPE:<class 'list'>\n",
      "\n"
     ]
    },
    {
     "name": "stderr",
     "output_type": "stream",
     "text": [
      "100%|██████████| 522/522 [01:28<00:00,  5.87it/s, Epoch=39, LR=9.14e-6, Train_Loss=0.0222]\n",
      "100%|██████████| 58/58 [00:02<00:00, 20.30it/s, Epoch=39, LR=9.14e-6, Valid_Loss=0.675]\n"
     ]
    },
    {
     "name": "stdout",
     "output_type": "stream",
     "text": [
      "max:11.211101\n",
      "mean:5.2994184\n",
      "min:0.79848814\n",
      "acc:0.6594827586206896\n",
      "mse:0.7413793\n"
     ]
    },
    {
     "name": "stderr",
     "output_type": "stream",
     "text": [
      "  0%|          | 0/522 [00:00<?, ?it/s]"
     ]
    },
    {
     "name": "stdout",
     "output_type": "stream",
     "text": [
      "max:11.366108894348145\n",
      "mean:5.017427512164255\n",
      "min:0.7899271249771118\n",
      "test mse:0.5374621084298946\n",
      "test acc:0.6233009708737864\n",
      "PREDS TYPE:<class 'list'>\n",
      "\n"
     ]
    },
    {
     "name": "stderr",
     "output_type": "stream",
     "text": [
      "100%|██████████| 522/522 [01:28<00:00,  5.87it/s, Epoch=40, LR=9.78e-6, Train_Loss=0.0213]\n",
      "100%|██████████| 58/58 [00:02<00:00, 20.35it/s, Epoch=40, LR=9.78e-6, Valid_Loss=0.74] \n"
     ]
    },
    {
     "name": "stdout",
     "output_type": "stream",
     "text": [
      "max:11.688519\n",
      "mean:5.4253697\n",
      "min:0.73572564\n",
      "acc:0.6551724137931034\n",
      "mse:0.8038793\n"
     ]
    },
    {
     "name": "stderr",
     "output_type": "stream",
     "text": [
      "  0%|          | 0/522 [00:00<?, ?it/s]"
     ]
    },
    {
     "name": "stdout",
     "output_type": "stream",
     "text": [
      "max:12.053413391113281\n",
      "mean:5.1506878832011544\n",
      "min:0.7943172454833984\n",
      "test mse:0.527777263769017\n",
      "test acc:0.6427184466019418\n",
      "PREDS TYPE:<class 'list'>\n",
      "\n"
     ]
    },
    {
     "name": "stderr",
     "output_type": "stream",
     "text": [
      "100%|██████████| 522/522 [01:28<00:00,  5.90it/s, Epoch=41, LR=1e-5, Train_Loss=0.0219]\n",
      "100%|██████████| 58/58 [00:02<00:00, 20.40it/s, Epoch=41, LR=1e-5, Valid_Loss=0.666]\n"
     ]
    },
    {
     "name": "stdout",
     "output_type": "stream",
     "text": [
      "max:11.162752\n",
      "mean:5.390289\n",
      "min:0.7351195\n",
      "acc:0.6379310344827587\n",
      "mse:0.7564655\n"
     ]
    },
    {
     "name": "stderr",
     "output_type": "stream",
     "text": [
      "  0%|          | 0/522 [00:00<?, ?it/s]"
     ]
    },
    {
     "name": "stdout",
     "output_type": "stream",
     "text": [
      "max:11.401748657226562\n",
      "mean:5.129396089188104\n",
      "min:0.8235713839530945\n",
      "test mse:0.4924890271715572\n",
      "test acc:0.6349514563106796\n",
      "PREDS TYPE:<class 'list'>\n",
      "\n"
     ]
    },
    {
     "name": "stderr",
     "output_type": "stream",
     "text": [
      "100%|██████████| 522/522 [01:28<00:00,  5.87it/s, Epoch=42, LR=9.78e-6, Train_Loss=0.0207]\n",
      "100%|██████████| 58/58 [00:02<00:00, 20.46it/s, Epoch=42, LR=9.78e-6, Valid_Loss=0.646]\n"
     ]
    },
    {
     "name": "stdout",
     "output_type": "stream",
     "text": [
      "max:11.323047\n",
      "mean:5.3182697\n",
      "min:0.67541194\n",
      "acc:0.6594827586206896\n",
      "mse:0.6810345\n"
     ]
    },
    {
     "name": "stderr",
     "output_type": "stream",
     "text": [
      "  0%|          | 0/522 [00:00<?, ?it/s]"
     ]
    },
    {
     "name": "stdout",
     "output_type": "stream",
     "text": [
      "max:11.840226173400879\n",
      "mean:5.072208279544867\n",
      "min:0.7966554164886475\n",
      "test mse:0.48314159098372783\n",
      "test acc:0.6466019417475728\n",
      "PREDS TYPE:<class 'list'>\n",
      "\n"
     ]
    },
    {
     "name": "stderr",
     "output_type": "stream",
     "text": [
      "100%|██████████| 522/522 [01:28<00:00,  5.87it/s, Epoch=43, LR=9.14e-6, Train_Loss=0.0189]\n",
      "100%|██████████| 58/58 [00:02<00:00, 20.72it/s, Epoch=43, LR=9.14e-6, Valid_Loss=0.649]\n"
     ]
    },
    {
     "name": "stdout",
     "output_type": "stream",
     "text": [
      "max:11.397645\n",
      "mean:5.4478045\n",
      "min:0.7779157\n",
      "acc:0.6530172413793104\n",
      "mse:0.70689654\n"
     ]
    },
    {
     "name": "stderr",
     "output_type": "stream",
     "text": [
      "  0%|          | 0/522 [00:00<?, ?it/s]"
     ]
    },
    {
     "name": "stdout",
     "output_type": "stream",
     "text": [
      "max:11.709800720214844\n",
      "mean:5.187120682290457\n",
      "min:0.8602388501167297\n",
      "test mse:0.46839865099149697\n",
      "test acc:0.6330097087378641\n",
      "PREDS TYPE:<class 'list'>\n",
      "\n"
     ]
    },
    {
     "name": "stderr",
     "output_type": "stream",
     "text": [
      "100%|██████████| 522/522 [01:29<00:00,  5.86it/s, Epoch=44, LR=8.15e-6, Train_Loss=0.0185]\n",
      "100%|██████████| 58/58 [00:02<00:00, 20.83it/s, Epoch=44, LR=8.15e-6, Valid_Loss=0.639]\n"
     ]
    },
    {
     "name": "stdout",
     "output_type": "stream",
     "text": [
      "max:11.679708\n",
      "mean:5.3236585\n",
      "min:0.7967806\n",
      "acc:0.6551724137931034\n",
      "mse:0.69181037\n"
     ]
    },
    {
     "name": "stderr",
     "output_type": "stream",
     "text": [
      "  0%|          | 0/522 [00:00<?, ?it/s]"
     ]
    },
    {
     "name": "stdout",
     "output_type": "stream",
     "text": [
      "max:12.400772094726562\n",
      "mean:5.064793239056486\n",
      "min:0.7921717762947083\n",
      "test mse:0.46822396464789395\n",
      "test acc:0.658252427184466\n",
      "PREDS TYPE:<class 'list'>\n",
      "\n"
     ]
    },
    {
     "name": "stderr",
     "output_type": "stream",
     "text": [
      "100%|██████████| 522/522 [01:28<00:00,  5.89it/s, Epoch=45, LR=6.89e-6, Train_Loss=0.0166]\n",
      "100%|██████████| 58/58 [00:02<00:00, 20.43it/s, Epoch=45, LR=6.89e-6, Valid_Loss=0.782]\n"
     ]
    },
    {
     "name": "stdout",
     "output_type": "stream",
     "text": [
      "max:11.300009\n",
      "mean:5.229878\n",
      "min:0.84369\n",
      "acc:0.6120689655172413\n",
      "mse:0.85991377\n"
     ]
    },
    {
     "name": "stderr",
     "output_type": "stream",
     "text": [
      "  0%|          | 0/522 [00:00<?, ?it/s]"
     ]
    },
    {
     "name": "stdout",
     "output_type": "stream",
     "text": [
      "max:11.931465148925781\n",
      "mean:4.976622403941108\n",
      "min:0.8596844673156738\n",
      "test mse:0.562619389712484\n",
      "test acc:0.6621359223300971\n",
      "PREDS TYPE:<class 'list'>\n",
      "\n"
     ]
    },
    {
     "name": "stderr",
     "output_type": "stream",
     "text": [
      "100%|██████████| 522/522 [01:28<00:00,  5.88it/s, Epoch=46, LR=5.5e-6, Train_Loss=0.0164]\n",
      "100%|██████████| 58/58 [00:02<00:00, 20.64it/s, Epoch=46, LR=5.5e-6, Valid_Loss=0.521]\n"
     ]
    },
    {
     "name": "stdout",
     "output_type": "stream",
     "text": [
      "max:11.821129\n",
      "mean:5.2703657\n",
      "min:0.7079324\n",
      "acc:0.6573275862068966\n",
      "mse:0.5689655\n",
      "max:12.648332595825195\n",
      "mean:5.010014307961881\n",
      "min:0.7592854499816895\n",
      "test mse:0.4183784570043154\n",
      "test acc:0.6330097087378641\n",
      "PREDS TYPE:<class 'list'>\n",
      "\u001b[34mValidation AUC Improved (0.5862069129943848 ---> 0.568965494632721)\n"
     ]
    },
    {
     "name": "stderr",
     "output_type": "stream",
     "text": [
      "  0%|          | 1/522 [00:00<01:28,  5.91it/s, Epoch=47, LR=4.11e-6, Train_Loss=0.00319]"
     ]
    },
    {
     "name": "stdout",
     "output_type": "stream",
     "text": [
      "Model Saved\n",
      "\n"
     ]
    },
    {
     "name": "stderr",
     "output_type": "stream",
     "text": [
      "100%|██████████| 522/522 [01:28<00:00,  5.91it/s, Epoch=47, LR=4.11e-6, Train_Loss=0.0146]\n",
      "100%|██████████| 58/58 [00:02<00:00, 20.29it/s, Epoch=47, LR=4.11e-6, Valid_Loss=0.624]\n"
     ]
    },
    {
     "name": "stdout",
     "output_type": "stream",
     "text": [
      "max:11.6924925\n",
      "mean:5.3542275\n",
      "min:0.78241634\n",
      "acc:0.6681034482758621\n",
      "mse:0.6853448\n"
     ]
    },
    {
     "name": "stderr",
     "output_type": "stream",
     "text": [
      "  0%|          | 0/522 [00:00<?, ?it/s]"
     ]
    },
    {
     "name": "stdout",
     "output_type": "stream",
     "text": [
      "max:12.534077644348145\n",
      "mean:5.0883559074216675\n",
      "min:0.8109898567199707\n",
      "test mse:0.44523176654135127\n",
      "test acc:0.6427184466019418\n",
      "PREDS TYPE:<class 'list'>\n",
      "\n"
     ]
    },
    {
     "name": "stderr",
     "output_type": "stream",
     "text": [
      "100%|██████████| 522/522 [01:28<00:00,  5.89it/s, Epoch=48, LR=2.85e-6, Train_Loss=0.0143]\n",
      "100%|██████████| 58/58 [00:02<00:00, 20.75it/s, Epoch=48, LR=2.85e-6, Valid_Loss=0.758]\n"
     ]
    },
    {
     "name": "stdout",
     "output_type": "stream",
     "text": [
      "max:11.3684025\n",
      "mean:5.247363\n",
      "min:0.74360794\n",
      "acc:0.6616379310344828\n",
      "mse:0.83189654\n"
     ]
    },
    {
     "name": "stderr",
     "output_type": "stream",
     "text": [
      "  0%|          | 0/522 [00:00<?, ?it/s]"
     ]
    },
    {
     "name": "stdout",
     "output_type": "stream",
     "text": [
      "max:12.676791191101074\n",
      "mean:4.9889880094713375\n",
      "min:0.8196674585342407\n",
      "test mse:0.5898339662225197\n",
      "test acc:0.6388349514563106\n",
      "PREDS TYPE:<class 'list'>\n",
      "\n"
     ]
    },
    {
     "name": "stderr",
     "output_type": "stream",
     "text": [
      "100%|██████████| 522/522 [01:28<00:00,  5.93it/s, Epoch=49, LR=1.86e-6, Train_Loss=0.0136]\n",
      "100%|██████████| 58/58 [00:02<00:00, 20.76it/s, Epoch=49, LR=1.86e-6, Valid_Loss=0.624]\n"
     ]
    },
    {
     "name": "stdout",
     "output_type": "stream",
     "text": [
      "max:11.489493\n",
      "mean:5.2784677\n",
      "min:0.6532477\n",
      "acc:0.6788793103448276\n",
      "mse:0.67456895\n"
     ]
    },
    {
     "name": "stderr",
     "output_type": "stream",
     "text": [
      "  0%|          | 0/522 [00:00<?, ?it/s]"
     ]
    },
    {
     "name": "stdout",
     "output_type": "stream",
     "text": [
      "max:12.556744575500488\n",
      "mean:5.020670879118651\n",
      "min:0.7180465459823608\n",
      "test mse:0.45964762182160795\n",
      "test acc:0.658252427184466\n",
      "PREDS TYPE:<class 'list'>\n",
      "\n"
     ]
    },
    {
     "name": "stderr",
     "output_type": "stream",
     "text": [
      "100%|██████████| 522/522 [01:28<00:00,  5.89it/s, Epoch=50, LR=1.22e-6, Train_Loss=0.0121]\n",
      "100%|██████████| 58/58 [00:02<00:00, 20.53it/s, Epoch=50, LR=1.22e-6, Valid_Loss=0.756]\n"
     ]
    },
    {
     "name": "stdout",
     "output_type": "stream",
     "text": [
      "max:11.578246\n",
      "mean:5.3365154\n",
      "min:0.7696813\n",
      "acc:0.6853448275862069\n",
      "mse:0.82758623\n"
     ]
    },
    {
     "name": "stderr",
     "output_type": "stream",
     "text": [
      "  0%|          | 0/522 [00:00<?, ?it/s]"
     ]
    },
    {
     "name": "stdout",
     "output_type": "stream",
     "text": [
      "max:12.624189376831055\n",
      "mean:5.061684890742441\n",
      "min:0.750852108001709\n",
      "test mse:0.5661852095696\n",
      "test acc:0.654368932038835\n",
      "PREDS TYPE:<class 'list'>\n",
      "\n"
     ]
    },
    {
     "name": "stderr",
     "output_type": "stream",
     "text": [
      "100%|██████████| 522/522 [01:28<00:00,  5.87it/s, Epoch=51, LR=1e-6, Train_Loss=0.0122]\n",
      "100%|██████████| 58/58 [00:02<00:00, 20.54it/s, Epoch=51, LR=1e-6, Valid_Loss=0.674]\n"
     ]
    },
    {
     "name": "stdout",
     "output_type": "stream",
     "text": [
      "max:11.362947\n",
      "mean:5.326234\n",
      "min:0.71723735\n",
      "acc:0.6788793103448276\n",
      "mse:0.7219828\n"
     ]
    },
    {
     "name": "stderr",
     "output_type": "stream",
     "text": [
      "  0%|          | 0/522 [00:00<?, ?it/s]"
     ]
    },
    {
     "name": "stdout",
     "output_type": "stream",
     "text": [
      "max:12.297685623168945\n",
      "mean:5.057726739216776\n",
      "min:0.7647346258163452\n",
      "test mse:0.5015398083856756\n",
      "test acc:0.6427184466019418\n",
      "PREDS TYPE:<class 'list'>\n",
      "\n"
     ]
    },
    {
     "name": "stderr",
     "output_type": "stream",
     "text": [
      "100%|██████████| 522/522 [01:29<00:00,  5.85it/s, Epoch=52, LR=1.22e-6, Train_Loss=0.0128]\n",
      "100%|██████████| 58/58 [00:02<00:00, 20.50it/s, Epoch=52, LR=1.22e-6, Valid_Loss=0.754]\n"
     ]
    },
    {
     "name": "stdout",
     "output_type": "stream",
     "text": [
      "max:11.332838\n",
      "mean:5.2778177\n",
      "min:0.80446535\n",
      "acc:0.6594827586206896\n",
      "mse:0.8038793\n"
     ]
    },
    {
     "name": "stderr",
     "output_type": "stream",
     "text": [
      "  0%|          | 0/522 [00:00<?, ?it/s]"
     ]
    },
    {
     "name": "stdout",
     "output_type": "stream",
     "text": [
      "max:12.061882972717285\n",
      "mean:5.006041803637754\n",
      "min:0.8503110408782959\n",
      "test mse:0.577823104529056\n",
      "test acc:0.6407766990291263\n",
      "PREDS TYPE:<class 'list'>\n",
      "\n"
     ]
    },
    {
     "name": "stderr",
     "output_type": "stream",
     "text": [
      "100%|██████████| 522/522 [01:29<00:00,  5.86it/s, Epoch=53, LR=1.86e-6, Train_Loss=0.0125]\n",
      "100%|██████████| 58/58 [00:02<00:00, 20.39it/s, Epoch=53, LR=1.86e-6, Valid_Loss=0.66] \n"
     ]
    },
    {
     "name": "stdout",
     "output_type": "stream",
     "text": [
      "max:11.376272\n",
      "mean:5.325139\n",
      "min:0.78872854\n",
      "acc:0.6745689655172413\n",
      "mse:0.73275864\n"
     ]
    },
    {
     "name": "stderr",
     "output_type": "stream",
     "text": [
      "  0%|          | 0/522 [00:00<?, ?it/s]"
     ]
    },
    {
     "name": "stdout",
     "output_type": "stream",
     "text": [
      "max:12.249459266662598\n",
      "mean:5.055645148152286\n",
      "min:0.8023712635040283\n",
      "test mse:0.494791981160604\n",
      "test acc:0.6621359223300971\n",
      "PREDS TYPE:<class 'list'>\n",
      "\n"
     ]
    },
    {
     "name": "stderr",
     "output_type": "stream",
     "text": [
      "100%|██████████| 522/522 [01:28<00:00,  5.89it/s, Epoch=54, LR=2.85e-6, Train_Loss=0.0125]\n",
      "100%|██████████| 58/58 [00:02<00:00, 20.41it/s, Epoch=54, LR=2.85e-6, Valid_Loss=0.722]\n"
     ]
    },
    {
     "name": "stdout",
     "output_type": "stream",
     "text": [
      "max:11.709975\n",
      "mean:5.34204\n",
      "min:0.6802588\n",
      "acc:0.665948275862069\n",
      "mse:0.79741377\n"
     ]
    },
    {
     "name": "stderr",
     "output_type": "stream",
     "text": [
      "  0%|          | 0/522 [00:00<?, ?it/s]"
     ]
    },
    {
     "name": "stdout",
     "output_type": "stream",
     "text": [
      "max:12.790979385375977\n",
      "mean:5.060392232311582\n",
      "min:0.7402521967887878\n",
      "test mse:0.568912838625334\n",
      "test acc:0.6504854368932039\n",
      "PREDS TYPE:<class 'list'>\n",
      "\n"
     ]
    },
    {
     "name": "stderr",
     "output_type": "stream",
     "text": [
      "100%|██████████| 522/522 [01:28<00:00,  5.89it/s, Epoch=55, LR=4.11e-6, Train_Loss=0.0138]\n",
      "100%|██████████| 58/58 [00:02<00:00, 20.71it/s, Epoch=55, LR=4.11e-6, Valid_Loss=0.719]\n"
     ]
    },
    {
     "name": "stdout",
     "output_type": "stream",
     "text": [
      "max:11.183291\n",
      "mean:5.2922106\n",
      "min:0.8203251\n",
      "acc:0.665948275862069\n",
      "mse:0.7866379\n"
     ]
    },
    {
     "name": "stderr",
     "output_type": "stream",
     "text": [
      "  0%|          | 0/522 [00:00<?, ?it/s]"
     ]
    },
    {
     "name": "stdout",
     "output_type": "stream",
     "text": [
      "max:11.894707679748535\n",
      "mean:5.029775339422874\n",
      "min:0.8448428511619568\n",
      "test mse:0.5119854568572507\n",
      "test acc:0.6621359223300971\n",
      "PREDS TYPE:<class 'list'>\n",
      "\n"
     ]
    },
    {
     "name": "stderr",
     "output_type": "stream",
     "text": [
      "100%|██████████| 522/522 [01:28<00:00,  5.88it/s, Epoch=56, LR=5.5e-6, Train_Loss=0.0134]\n",
      "100%|██████████| 58/58 [00:02<00:00, 20.32it/s, Epoch=56, LR=5.5e-6, Valid_Loss=0.766]\n"
     ]
    },
    {
     "name": "stdout",
     "output_type": "stream",
     "text": [
      "max:11.273235\n",
      "mean:5.2127323\n",
      "min:0.7477321\n",
      "acc:0.6702586206896551\n",
      "mse:0.8060345\n"
     ]
    },
    {
     "name": "stderr",
     "output_type": "stream",
     "text": [
      "  0%|          | 0/522 [00:00<?, ?it/s]"
     ]
    },
    {
     "name": "stdout",
     "output_type": "stream",
     "text": [
      "max:12.0526123046875\n",
      "mean:4.940625803678938\n",
      "min:0.7789178490638733\n",
      "test mse:0.5609751746823284\n",
      "test acc:0.6271844660194175\n",
      "PREDS TYPE:<class 'list'>\n",
      "\n"
     ]
    },
    {
     "name": "stderr",
     "output_type": "stream",
     "text": [
      "100%|██████████| 522/522 [01:28<00:00,  5.88it/s, Epoch=57, LR=6.89e-6, Train_Loss=0.0143]\n",
      "100%|██████████| 58/58 [00:02<00:00, 20.33it/s, Epoch=57, LR=6.89e-6, Valid_Loss=0.593]\n"
     ]
    },
    {
     "name": "stdout",
     "output_type": "stream",
     "text": [
      "max:11.298287\n",
      "mean:5.323385\n",
      "min:0.8080386\n",
      "acc:0.6788793103448276\n",
      "mse:0.6508621\n"
     ]
    },
    {
     "name": "stderr",
     "output_type": "stream",
     "text": [
      "  0%|          | 0/522 [00:00<?, ?it/s]"
     ]
    },
    {
     "name": "stdout",
     "output_type": "stream",
     "text": [
      "max:11.899630546569824\n",
      "mean:5.037613555412848\n",
      "min:0.8116028308868408\n",
      "test mse:0.4655715670256985\n",
      "test acc:0.6718446601941748\n",
      "PREDS TYPE:<class 'list'>\n",
      "\n"
     ]
    },
    {
     "name": "stderr",
     "output_type": "stream",
     "text": [
      "100%|██████████| 522/522 [01:29<00:00,  5.86it/s, Epoch=58, LR=8.15e-6, Train_Loss=0.0152]\n",
      "100%|██████████| 58/58 [00:02<00:00, 20.20it/s, Epoch=58, LR=8.15e-6, Valid_Loss=0.614]\n"
     ]
    },
    {
     "name": "stdout",
     "output_type": "stream",
     "text": [
      "max:11.680927\n",
      "mean:5.287517\n",
      "min:0.7984327\n",
      "acc:0.6530172413793104\n",
      "mse:0.67672414\n"
     ]
    },
    {
     "name": "stderr",
     "output_type": "stream",
     "text": [
      "  0%|          | 0/522 [00:00<?, ?it/s]"
     ]
    },
    {
     "name": "stdout",
     "output_type": "stream",
     "text": [
      "max:11.913334846496582\n",
      "mean:5.007879570039731\n",
      "min:0.7690845727920532\n",
      "test mse:0.5068310698263382\n",
      "test acc:0.6601941747572816\n",
      "PREDS TYPE:<class 'list'>\n",
      "\n"
     ]
    },
    {
     "name": "stderr",
     "output_type": "stream",
     "text": [
      "100%|██████████| 522/522 [01:29<00:00,  5.86it/s, Epoch=59, LR=9.14e-6, Train_Loss=0.0142]\n",
      "100%|██████████| 58/58 [00:02<00:00, 20.32it/s, Epoch=59, LR=9.14e-6, Valid_Loss=0.7]  \n"
     ]
    },
    {
     "name": "stdout",
     "output_type": "stream",
     "text": [
      "max:11.269789\n",
      "mean:5.441056\n",
      "min:0.74055576\n",
      "acc:0.6637931034482759\n",
      "mse:0.75\n"
     ]
    },
    {
     "name": "stderr",
     "output_type": "stream",
     "text": [
      "  0%|          | 0/522 [00:00<?, ?it/s]"
     ]
    },
    {
     "name": "stdout",
     "output_type": "stream",
     "text": [
      "max:11.611327171325684\n",
      "mean:5.1477606335889945\n",
      "min:0.8151081800460815\n",
      "test mse:0.49151925512251937\n",
      "test acc:0.6524271844660194\n",
      "PREDS TYPE:<class 'list'>\n",
      "\n"
     ]
    },
    {
     "name": "stderr",
     "output_type": "stream",
     "text": [
      "100%|██████████| 522/522 [01:28<00:00,  5.87it/s, Epoch=60, LR=9.78e-6, Train_Loss=0.0135]\n",
      "100%|██████████| 58/58 [00:02<00:00, 20.33it/s, Epoch=60, LR=9.78e-6, Valid_Loss=0.548]\n"
     ]
    },
    {
     "name": "stdout",
     "output_type": "stream",
     "text": [
      "max:11.299974\n",
      "mean:5.347227\n",
      "min:0.69132334\n",
      "acc:0.665948275862069\n",
      "mse:0.6034483\n"
     ]
    },
    {
     "name": "stderr",
     "output_type": "stream",
     "text": [
      "  0%|          | 0/522 [00:00<?, ?it/s]"
     ]
    },
    {
     "name": "stdout",
     "output_type": "stream",
     "text": [
      "max:11.973187446594238\n",
      "mean:5.076747793132819\n",
      "min:0.7309567332267761\n",
      "test mse:0.453096705362798\n",
      "test acc:0.6466019417475728\n",
      "PREDS TYPE:<class 'list'>\n",
      "\n"
     ]
    },
    {
     "name": "stderr",
     "output_type": "stream",
     "text": [
      "100%|██████████| 522/522 [01:28<00:00,  5.88it/s, Epoch=61, LR=1e-5, Train_Loss=0.0137]\n",
      "100%|██████████| 58/58 [00:02<00:00, 20.21it/s, Epoch=61, LR=1e-5, Valid_Loss=0.574]\n"
     ]
    },
    {
     "name": "stdout",
     "output_type": "stream",
     "text": [
      "max:11.867447\n",
      "mean:5.2583313\n",
      "min:0.75302744\n",
      "acc:0.646551724137931\n",
      "mse:0.64439654\n"
     ]
    },
    {
     "name": "stderr",
     "output_type": "stream",
     "text": [
      "  0%|          | 0/522 [00:00<?, ?it/s]"
     ]
    },
    {
     "name": "stdout",
     "output_type": "stream",
     "text": [
      "max:12.309086799621582\n",
      "mean:4.978538401150009\n",
      "min:0.7906250953674316\n",
      "test mse:0.5000638078744439\n",
      "test acc:0.6271844660194175\n",
      "PREDS TYPE:<class 'list'>\n",
      "\n"
     ]
    },
    {
     "name": "stderr",
     "output_type": "stream",
     "text": [
      "100%|██████████| 522/522 [01:28<00:00,  5.88it/s, Epoch=62, LR=9.78e-6, Train_Loss=0.0139]\n",
      "100%|██████████| 58/58 [00:02<00:00, 19.93it/s, Epoch=62, LR=9.78e-6, Valid_Loss=0.552]\n"
     ]
    },
    {
     "name": "stdout",
     "output_type": "stream",
     "text": [
      "max:11.3806095\n",
      "mean:5.264334\n",
      "min:0.69165456\n",
      "acc:0.6400862068965517\n",
      "mse:0.62931037\n"
     ]
    },
    {
     "name": "stderr",
     "output_type": "stream",
     "text": [
      "  0%|          | 0/522 [00:00<?, ?it/s]"
     ]
    },
    {
     "name": "stdout",
     "output_type": "stream",
     "text": [
      "max:11.80215835571289\n",
      "mean:4.986361745954717\n",
      "min:0.7950472831726074\n",
      "test mse:0.4661788444214102\n",
      "test acc:0.6466019417475728\n",
      "PREDS TYPE:<class 'list'>\n",
      "\n"
     ]
    },
    {
     "name": "stderr",
     "output_type": "stream",
     "text": [
      "100%|██████████| 522/522 [01:28<00:00,  5.88it/s, Epoch=63, LR=9.14e-6, Train_Loss=0.0124]\n",
      "100%|██████████| 58/58 [00:02<00:00, 19.83it/s, Epoch=63, LR=9.14e-6, Valid_Loss=0.599]\n"
     ]
    },
    {
     "name": "stdout",
     "output_type": "stream",
     "text": [
      "max:11.046296\n",
      "mean:5.337092\n",
      "min:0.75449663\n",
      "acc:0.6745689655172413\n",
      "mse:0.6508621\n"
     ]
    },
    {
     "name": "stderr",
     "output_type": "stream",
     "text": [
      "  0%|          | 0/522 [00:00<?, ?it/s]"
     ]
    },
    {
     "name": "stdout",
     "output_type": "stream",
     "text": [
      "max:11.875066757202148\n",
      "mean:5.0516548476172884\n",
      "min:0.712358832359314\n",
      "test mse:0.6354289971124977\n",
      "test acc:0.654368932038835\n",
      "PREDS TYPE:<class 'list'>\n",
      "\n"
     ]
    },
    {
     "name": "stderr",
     "output_type": "stream",
     "text": [
      "100%|██████████| 522/522 [01:28<00:00,  5.89it/s, Epoch=64, LR=8.15e-6, Train_Loss=0.0135]\n",
      "100%|██████████| 58/58 [00:02<00:00, 20.00it/s, Epoch=64, LR=8.15e-6, Valid_Loss=0.587]\n"
     ]
    },
    {
     "name": "stdout",
     "output_type": "stream",
     "text": [
      "max:11.680436\n",
      "mean:5.321329\n",
      "min:0.7404057\n",
      "acc:0.6681034482758621\n",
      "mse:0.64224136\n"
     ]
    },
    {
     "name": "stderr",
     "output_type": "stream",
     "text": [
      "  0%|          | 0/522 [00:00<?, ?it/s]"
     ]
    },
    {
     "name": "stdout",
     "output_type": "stream",
     "text": [
      "max:12.477147102355957\n",
      "mean:5.046321072971937\n",
      "min:0.6936649680137634\n",
      "test mse:0.4726126764687706\n",
      "test acc:0.6563106796116505\n",
      "PREDS TYPE:<class 'list'>\n",
      "\n"
     ]
    },
    {
     "name": "stderr",
     "output_type": "stream",
     "text": [
      "100%|██████████| 522/522 [01:28<00:00,  5.92it/s, Epoch=65, LR=6.89e-6, Train_Loss=0.0116]\n",
      "100%|██████████| 58/58 [00:02<00:00, 19.94it/s, Epoch=65, LR=6.89e-6, Valid_Loss=0.534]\n"
     ]
    },
    {
     "name": "stdout",
     "output_type": "stream",
     "text": [
      "max:11.264995\n",
      "mean:5.437632\n",
      "min:0.777155\n",
      "acc:0.6724137931034483\n",
      "mse:0.5905172\n"
     ]
    },
    {
     "name": "stderr",
     "output_type": "stream",
     "text": [
      "  0%|          | 0/522 [00:00<?, ?it/s]"
     ]
    },
    {
     "name": "stdout",
     "output_type": "stream",
     "text": [
      "max:11.804622650146484\n",
      "mean:5.155337061002417\n",
      "min:0.768430769443512\n",
      "test mse:0.405215961323304\n",
      "test acc:0.6621359223300971\n",
      "PREDS TYPE:<class 'list'>\n",
      "\n"
     ]
    },
    {
     "name": "stderr",
     "output_type": "stream",
     "text": [
      "100%|██████████| 522/522 [01:28<00:00,  5.89it/s, Epoch=66, LR=5.5e-6, Train_Loss=0.0108]\n",
      "100%|██████████| 58/58 [00:02<00:00, 19.79it/s, Epoch=66, LR=5.5e-6, Valid_Loss=0.707]\n"
     ]
    },
    {
     "name": "stdout",
     "output_type": "stream",
     "text": [
      "max:11.709498\n",
      "mean:5.4098053\n",
      "min:0.6723836\n",
      "acc:0.6853448275862069\n",
      "mse:0.7737069\n"
     ]
    },
    {
     "name": "stderr",
     "output_type": "stream",
     "text": [
      "  0%|          | 0/522 [00:00<?, ?it/s]"
     ]
    },
    {
     "name": "stdout",
     "output_type": "stream",
     "text": [
      "max:12.600259780883789\n",
      "mean:5.131298322816497\n",
      "min:0.7298416495323181\n",
      "test mse:0.5438318438447142\n",
      "test acc:0.6466019417475728\n",
      "PREDS TYPE:<class 'list'>\n",
      "\n"
     ]
    },
    {
     "name": "stderr",
     "output_type": "stream",
     "text": [
      "100%|██████████| 522/522 [01:28<00:00,  5.92it/s, Epoch=67, LR=4.11e-6, Train_Loss=0.0103]\n",
      "100%|██████████| 58/58 [00:02<00:00, 19.98it/s, Epoch=67, LR=4.11e-6, Valid_Loss=0.553]\n"
     ]
    },
    {
     "name": "stdout",
     "output_type": "stream",
     "text": [
      "max:11.611434\n",
      "mean:5.5214744\n",
      "min:0.8273501\n",
      "acc:0.6788793103448276\n",
      "mse:0.57758623\n"
     ]
    },
    {
     "name": "stderr",
     "output_type": "stream",
     "text": [
      "  0%|          | 0/522 [00:00<?, ?it/s]"
     ]
    },
    {
     "name": "stdout",
     "output_type": "stream",
     "text": [
      "max:12.414459228515625\n",
      "mean:5.2477162864601725\n",
      "min:0.7753695845603943\n",
      "test mse:0.4454292746107419\n",
      "test acc:0.6349514563106796\n",
      "PREDS TYPE:<class 'list'>\n",
      "\n"
     ]
    },
    {
     "name": "stderr",
     "output_type": "stream",
     "text": [
      "100%|██████████| 522/522 [01:28<00:00,  5.88it/s, Epoch=68, LR=2.85e-6, Train_Loss=0.00966]\n",
      "100%|██████████| 58/58 [00:02<00:00, 19.86it/s, Epoch=68, LR=2.85e-6, Valid_Loss=0.489]\n"
     ]
    },
    {
     "name": "stdout",
     "output_type": "stream",
     "text": [
      "max:11.618667\n",
      "mean:5.408143\n",
      "min:0.83044857\n",
      "acc:0.6853448275862069\n",
      "mse:0.54741377\n",
      "max:12.204121589660645\n",
      "mean:5.137244237973852\n",
      "min:0.7656295299530029\n",
      "test mse:0.4078123413487932\n",
      "test acc:0.6718446601941748\n",
      "PREDS TYPE:<class 'list'>\n",
      "\u001b[34mValidation AUC Improved (0.568965494632721 ---> 0.5474137663841248)\n"
     ]
    },
    {
     "name": "stderr",
     "output_type": "stream",
     "text": [
      "  0%|          | 1/522 [00:00<01:29,  5.85it/s, Epoch=69, LR=1.86e-6, Train_Loss=0.00394]"
     ]
    },
    {
     "name": "stdout",
     "output_type": "stream",
     "text": [
      "Model Saved\n",
      "\n"
     ]
    },
    {
     "name": "stderr",
     "output_type": "stream",
     "text": [
      "100%|██████████| 522/522 [01:28<00:00,  5.87it/s, Epoch=69, LR=1.86e-6, Train_Loss=0.00934]\n",
      "100%|██████████| 58/58 [00:02<00:00, 19.98it/s, Epoch=69, LR=1.86e-6, Valid_Loss=0.591]\n"
     ]
    },
    {
     "name": "stdout",
     "output_type": "stream",
     "text": [
      "max:11.380652\n",
      "mean:5.4333363\n",
      "min:0.79753894\n",
      "acc:0.6939655172413793\n",
      "mse:0.62931037\n"
     ]
    },
    {
     "name": "stderr",
     "output_type": "stream",
     "text": [
      "  0%|          | 0/522 [00:00<?, ?it/s]"
     ]
    },
    {
     "name": "stdout",
     "output_type": "stream",
     "text": [
      "max:12.055473327636719\n",
      "mean:5.16504713840855\n",
      "min:0.7686752676963806\n",
      "test mse:0.4665030120967712\n",
      "test acc:0.6524271844660194\n",
      "PREDS TYPE:<class 'list'>\n",
      "\n"
     ]
    },
    {
     "name": "stderr",
     "output_type": "stream",
     "text": [
      "100%|██████████| 522/522 [01:28<00:00,  5.90it/s, Epoch=70, LR=1.22e-6, Train_Loss=0.00891]\n",
      "100%|██████████| 58/58 [00:02<00:00, 19.92it/s, Epoch=70, LR=1.22e-6, Valid_Loss=0.751]\n"
     ]
    },
    {
     "name": "stdout",
     "output_type": "stream",
     "text": [
      "max:11.444622\n",
      "mean:5.3502774\n",
      "min:0.78052145\n",
      "acc:0.6767241379310345\n",
      "mse:0.8211207\n"
     ]
    },
    {
     "name": "stderr",
     "output_type": "stream",
     "text": [
      "  0%|          | 0/522 [00:00<?, ?it/s]"
     ]
    },
    {
     "name": "stdout",
     "output_type": "stream",
     "text": [
      "max:12.281464576721191\n",
      "mean:5.079492835512439\n",
      "min:0.7364850640296936\n",
      "test mse:0.6572730719016885\n",
      "test acc:0.654368932038835\n",
      "PREDS TYPE:<class 'list'>\n",
      "\n"
     ]
    },
    {
     "name": "stderr",
     "output_type": "stream",
     "text": [
      "100%|██████████| 522/522 [01:28<00:00,  5.89it/s, Epoch=71, LR=1e-6, Train_Loss=0.00851]\n",
      "100%|██████████| 58/58 [00:02<00:00, 19.82it/s, Epoch=71, LR=1e-6, Valid_Loss=0.554]\n"
     ]
    },
    {
     "name": "stdout",
     "output_type": "stream",
     "text": [
      "max:11.480835\n",
      "mean:5.4474735\n",
      "min:0.7973754\n",
      "acc:0.6896551724137931\n",
      "mse:0.5948276\n"
     ]
    },
    {
     "name": "stderr",
     "output_type": "stream",
     "text": [
      "  0%|          | 0/522 [00:00<?, ?it/s]"
     ]
    },
    {
     "name": "stdout",
     "output_type": "stream",
     "text": [
      "max:12.074152946472168\n",
      "mean:5.176995413743176\n",
      "min:0.7807008624076843\n",
      "test mse:0.43227045038211354\n",
      "test acc:0.6621359223300971\n",
      "PREDS TYPE:<class 'list'>\n",
      "\n"
     ]
    },
    {
     "name": "stderr",
     "output_type": "stream",
     "text": [
      "100%|██████████| 522/522 [01:28<00:00,  5.87it/s, Epoch=72, LR=1.22e-6, Train_Loss=0.00885]\n",
      "100%|██████████| 58/58 [00:02<00:00, 19.92it/s, Epoch=72, LR=1.22e-6, Valid_Loss=0.503]\n"
     ]
    },
    {
     "name": "stdout",
     "output_type": "stream",
     "text": [
      "max:11.459672\n",
      "mean:5.383129\n",
      "min:0.7892619\n",
      "acc:0.6637931034482759\n",
      "mse:0.57543105\n"
     ]
    },
    {
     "name": "stderr",
     "output_type": "stream",
     "text": [
      "  0%|          | 0/522 [00:00<?, ?it/s]"
     ]
    },
    {
     "name": "stdout",
     "output_type": "stream",
     "text": [
      "max:12.186525344848633\n",
      "mean:5.113463162797169\n",
      "min:0.7435662746429443\n",
      "test mse:0.40082273146580566\n",
      "test acc:0.6640776699029126\n",
      "PREDS TYPE:<class 'list'>\n",
      "\n"
     ]
    },
    {
     "name": "stderr",
     "output_type": "stream",
     "text": [
      "100%|██████████| 522/522 [01:28<00:00,  5.88it/s, Epoch=73, LR=1.86e-6, Train_Loss=0.00852]\n",
      "100%|██████████| 58/58 [00:02<00:00, 19.79it/s, Epoch=73, LR=1.86e-6, Valid_Loss=0.471]\n"
     ]
    },
    {
     "name": "stdout",
     "output_type": "stream",
     "text": [
      "max:11.619078\n",
      "mean:5.512972\n",
      "min:0.88096786\n",
      "acc:0.6745689655172413\n",
      "mse:0.5301724\n",
      "max:12.047100067138672\n",
      "mean:5.239446979818992\n",
      "min:0.7986597418785095\n",
      "test mse:0.38058043046873075\n",
      "test acc:0.6485436893203883\n",
      "PREDS TYPE:<class 'list'>\n",
      "\u001b[34mValidation AUC Improved (0.5474137663841248 ---> 0.5301724076271057)\n"
     ]
    },
    {
     "name": "stderr",
     "output_type": "stream",
     "text": [
      "  0%|          | 1/522 [00:00<01:12,  7.22it/s, Epoch=74, LR=2.85e-6, Train_Loss=0.00717]"
     ]
    },
    {
     "name": "stdout",
     "output_type": "stream",
     "text": [
      "Model Saved\n",
      "\n"
     ]
    },
    {
     "name": "stderr",
     "output_type": "stream",
     "text": [
      "100%|██████████| 522/522 [01:29<00:00,  5.86it/s, Epoch=74, LR=2.85e-6, Train_Loss=0.00865]\n",
      "100%|██████████| 58/58 [00:02<00:00, 19.72it/s, Epoch=74, LR=2.85e-6, Valid_Loss=0.485]\n"
     ]
    },
    {
     "name": "stdout",
     "output_type": "stream",
     "text": [
      "max:11.840369\n",
      "mean:5.523508\n",
      "min:0.77365893\n",
      "acc:0.6918103448275862\n",
      "mse:0.5344828\n"
     ]
    },
    {
     "name": "stderr",
     "output_type": "stream",
     "text": [
      "  0%|          | 0/522 [00:00<?, ?it/s]"
     ]
    },
    {
     "name": "stdout",
     "output_type": "stream",
     "text": [
      "max:12.261114120483398\n",
      "mean:5.246525240638881\n",
      "min:0.7449532747268677\n",
      "test mse:0.3883926734165631\n",
      "test acc:0.6485436893203883\n",
      "PREDS TYPE:<class 'list'>\n",
      "\n"
     ]
    },
    {
     "name": "stderr",
     "output_type": "stream",
     "text": [
      "100%|██████████| 522/522 [01:28<00:00,  5.89it/s, Epoch=75, LR=4.11e-6, Train_Loss=0.00888]\n",
      "100%|██████████| 58/58 [00:02<00:00, 19.87it/s, Epoch=75, LR=4.11e-6, Valid_Loss=0.553]\n"
     ]
    },
    {
     "name": "stdout",
     "output_type": "stream",
     "text": [
      "max:11.667274\n",
      "mean:5.43891\n",
      "min:0.753249\n",
      "acc:0.709051724137931\n",
      "mse:0.57543105\n"
     ]
    },
    {
     "name": "stderr",
     "output_type": "stream",
     "text": [
      "  0%|          | 0/522 [00:00<?, ?it/s]"
     ]
    },
    {
     "name": "stdout",
     "output_type": "stream",
     "text": [
      "max:11.874383926391602\n",
      "mean:5.167560690583534\n",
      "min:0.7329138517379761\n",
      "test mse:0.4424815910865882\n",
      "test acc:0.6699029126213593\n",
      "PREDS TYPE:<class 'list'>\n",
      "\n"
     ]
    },
    {
     "name": "stderr",
     "output_type": "stream",
     "text": [
      "100%|██████████| 522/522 [01:28<00:00,  5.89it/s, Epoch=76, LR=5.5e-6, Train_Loss=0.00944]\n",
      "100%|██████████| 58/58 [00:02<00:00, 19.74it/s, Epoch=76, LR=5.5e-6, Valid_Loss=0.584]\n"
     ]
    },
    {
     "name": "stdout",
     "output_type": "stream",
     "text": [
      "max:11.27297\n",
      "mean:5.3244143\n",
      "min:0.76887184\n",
      "acc:0.6616379310344828\n",
      "mse:0.6551724\n"
     ]
    },
    {
     "name": "stderr",
     "output_type": "stream",
     "text": [
      "  0%|          | 0/522 [00:00<?, ?it/s]"
     ]
    },
    {
     "name": "stdout",
     "output_type": "stream",
     "text": [
      "max:11.961230278015137\n",
      "mean:5.059017624438388\n",
      "min:0.7338524460792542\n",
      "test mse:0.45517335158364086\n",
      "test acc:0.6718446601941748\n",
      "PREDS TYPE:<class 'list'>\n",
      "\n"
     ]
    },
    {
     "name": "stderr",
     "output_type": "stream",
     "text": [
      "100%|██████████| 522/522 [01:29<00:00,  5.85it/s, Epoch=77, LR=6.89e-6, Train_Loss=0.00932]\n",
      "100%|██████████| 58/58 [00:02<00:00, 19.69it/s, Epoch=77, LR=6.89e-6, Valid_Loss=0.764]\n"
     ]
    },
    {
     "name": "stdout",
     "output_type": "stream",
     "text": [
      "max:11.113713\n",
      "mean:5.3917184\n",
      "min:0.7251347\n",
      "acc:0.6637931034482759\n",
      "mse:0.81681037\n"
     ]
    },
    {
     "name": "stderr",
     "output_type": "stream",
     "text": [
      "  0%|          | 0/522 [00:00<?, ?it/s]"
     ]
    },
    {
     "name": "stdout",
     "output_type": "stream",
     "text": [
      "max:11.734206199645996\n",
      "mean:5.126200921790113\n",
      "min:0.7576473355293274\n",
      "test mse:0.5787444163573993\n",
      "test acc:0.6737864077669903\n",
      "PREDS TYPE:<class 'list'>\n",
      "\n"
     ]
    },
    {
     "name": "stderr",
     "output_type": "stream",
     "text": [
      "100%|██████████| 522/522 [01:28<00:00,  5.89it/s, Epoch=78, LR=8.15e-6, Train_Loss=0.00931]\n",
      "100%|██████████| 58/58 [00:02<00:00, 19.97it/s, Epoch=78, LR=8.15e-6, Valid_Loss=0.529]\n"
     ]
    },
    {
     "name": "stdout",
     "output_type": "stream",
     "text": [
      "max:11.773842\n",
      "mean:5.501943\n",
      "min:0.7193774\n",
      "acc:0.6594827586206896\n",
      "mse:0.57974136\n"
     ]
    },
    {
     "name": "stderr",
     "output_type": "stream",
     "text": [
      "  0%|          | 0/522 [00:00<?, ?it/s]"
     ]
    },
    {
     "name": "stdout",
     "output_type": "stream",
     "text": [
      "max:12.238460540771484\n",
      "mean:5.204904844575715\n",
      "min:0.7093333601951599\n",
      "test mse:0.3947920967277076\n",
      "test acc:0.6718446601941748\n",
      "PREDS TYPE:<class 'list'>\n",
      "\n"
     ]
    },
    {
     "name": "stderr",
     "output_type": "stream",
     "text": [
      "100%|██████████| 522/522 [01:28<00:00,  5.90it/s, Epoch=79, LR=9.14e-6, Train_Loss=0.00988]\n",
      "100%|██████████| 58/58 [00:02<00:00, 19.46it/s, Epoch=79, LR=9.14e-6, Valid_Loss=0.69] \n"
     ]
    },
    {
     "name": "stdout",
     "output_type": "stream",
     "text": [
      "max:11.567095\n",
      "mean:5.3602\n",
      "min:0.7254424\n",
      "acc:0.7047413793103449\n",
      "mse:0.70258623\n"
     ]
    },
    {
     "name": "stderr",
     "output_type": "stream",
     "text": [
      "  0%|          | 0/522 [00:00<?, ?it/s]"
     ]
    },
    {
     "name": "stdout",
     "output_type": "stream",
     "text": [
      "max:12.3163423538208\n",
      "mean:5.077740730012505\n",
      "min:0.7274011373519897\n",
      "test mse:0.5285756988007227\n",
      "test acc:0.6485436893203883\n",
      "PREDS TYPE:<class 'list'>\n",
      "\n"
     ]
    },
    {
     "name": "stderr",
     "output_type": "stream",
     "text": [
      "100%|██████████| 522/522 [01:29<00:00,  5.86it/s, Epoch=80, LR=9.78e-6, Train_Loss=0.0106] \n",
      "100%|██████████| 58/58 [00:02<00:00, 19.84it/s, Epoch=80, LR=9.78e-6, Valid_Loss=0.528]\n"
     ]
    },
    {
     "name": "stdout",
     "output_type": "stream",
     "text": [
      "max:11.665193\n",
      "mean:5.567341\n",
      "min:0.7024498\n",
      "acc:0.6336206896551724\n",
      "mse:0.6185345\n"
     ]
    },
    {
     "name": "stderr",
     "output_type": "stream",
     "text": [
      "  0%|          | 0/522 [00:00<?, ?it/s]"
     ]
    },
    {
     "name": "stdout",
     "output_type": "stream",
     "text": [
      "max:12.354424476623535\n",
      "mean:5.301937619690756\n",
      "min:0.7405531406402588\n",
      "test mse:0.42066457551619824\n",
      "test acc:0.6233009708737864\n",
      "PREDS TYPE:<class 'list'>\n",
      "\n"
     ]
    },
    {
     "name": "stderr",
     "output_type": "stream",
     "text": [
      "100%|██████████| 522/522 [01:28<00:00,  5.90it/s, Epoch=81, LR=1e-5, Train_Loss=0.0114]\n",
      "100%|██████████| 58/58 [00:02<00:00, 20.23it/s, Epoch=81, LR=1e-5, Valid_Loss=0.531]\n"
     ]
    },
    {
     "name": "stdout",
     "output_type": "stream",
     "text": [
      "max:11.283682\n",
      "mean:5.2971926\n",
      "min:0.7186609\n",
      "acc:0.6788793103448276\n",
      "mse:0.57758623\n"
     ]
    },
    {
     "name": "stderr",
     "output_type": "stream",
     "text": [
      "  0%|          | 0/522 [00:00<?, ?it/s]"
     ]
    },
    {
     "name": "stdout",
     "output_type": "stream",
     "text": [
      "max:12.222816467285156\n",
      "mean:5.017206854033239\n",
      "min:0.7589036226272583\n",
      "test mse:0.4459785489302031\n",
      "test acc:0.6640776699029126\n",
      "PREDS TYPE:<class 'list'>\n",
      "\n"
     ]
    },
    {
     "name": "stderr",
     "output_type": "stream",
     "text": [
      "100%|██████████| 522/522 [01:29<00:00,  5.86it/s, Epoch=82, LR=9.78e-6, Train_Loss=0.00982]\n",
      "100%|██████████| 58/58 [00:02<00:00, 19.86it/s, Epoch=82, LR=9.78e-6, Valid_Loss=0.599]\n"
     ]
    },
    {
     "name": "stdout",
     "output_type": "stream",
     "text": [
      "max:11.768993\n",
      "mean:5.5939655\n",
      "min:0.7847458\n",
      "acc:0.6487068965517241\n",
      "mse:0.6551724\n"
     ]
    },
    {
     "name": "stderr",
     "output_type": "stream",
     "text": [
      "  0%|          | 0/522 [00:00<?, ?it/s]"
     ]
    },
    {
     "name": "stdout",
     "output_type": "stream",
     "text": [
      "max:12.342741966247559\n",
      "mean:5.311454852923606\n",
      "min:0.7828125357627869\n",
      "test mse:0.4501769077001298\n",
      "test acc:0.6135922330097088\n",
      "PREDS TYPE:<class 'list'>\n",
      "\n"
     ]
    },
    {
     "name": "stderr",
     "output_type": "stream",
     "text": [
      "100%|██████████| 522/522 [01:28<00:00,  5.87it/s, Epoch=83, LR=9.14e-6, Train_Loss=0.00925]\n",
      "100%|██████████| 58/58 [00:02<00:00, 20.01it/s, Epoch=83, LR=9.14e-6, Valid_Loss=0.508]\n"
     ]
    },
    {
     "name": "stdout",
     "output_type": "stream",
     "text": [
      "max:11.290018\n",
      "mean:5.348473\n",
      "min:0.73819405\n",
      "acc:0.6896551724137931\n",
      "mse:0.5301724\n",
      "max:11.959010124206543\n",
      "mean:5.072360240371482\n",
      "min:0.7813633680343628\n",
      "test mse:0.3937181479118139\n",
      "test acc:0.683495145631068\n",
      "PREDS TYPE:<class 'list'>\n",
      "\u001b[34mValidation AUC Improved (0.5301724076271057 ---> 0.5301724076271057)\n"
     ]
    },
    {
     "name": "stderr",
     "output_type": "stream",
     "text": [
      "  0%|          | 1/522 [00:00<01:09,  7.54it/s, Epoch=84, LR=8.15e-6, Train_Loss=0.00863]"
     ]
    },
    {
     "name": "stdout",
     "output_type": "stream",
     "text": [
      "Model Saved\n",
      "\n"
     ]
    },
    {
     "name": "stderr",
     "output_type": "stream",
     "text": [
      "100%|██████████| 522/522 [01:28<00:00,  5.89it/s, Epoch=84, LR=8.15e-6, Train_Loss=0.00875]\n",
      "100%|██████████| 58/58 [00:02<00:00, 20.08it/s, Epoch=84, LR=8.15e-6, Valid_Loss=0.747]\n"
     ]
    },
    {
     "name": "stdout",
     "output_type": "stream",
     "text": [
      "max:11.628447\n",
      "mean:5.4081774\n",
      "min:0.8091386\n",
      "acc:0.6810344827586207\n",
      "mse:0.7844828\n"
     ]
    },
    {
     "name": "stderr",
     "output_type": "stream",
     "text": [
      "  0%|          | 0/522 [00:00<?, ?it/s]"
     ]
    },
    {
     "name": "stdout",
     "output_type": "stream",
     "text": [
      "max:12.040532112121582\n",
      "mean:5.127495808045841\n",
      "min:0.7860648036003113\n",
      "test mse:0.5660214582823396\n",
      "test acc:0.6640776699029126\n",
      "PREDS TYPE:<class 'list'>\n",
      "\n"
     ]
    },
    {
     "name": "stderr",
     "output_type": "stream",
     "text": [
      "100%|██████████| 522/522 [01:28<00:00,  5.90it/s, Epoch=85, LR=6.89e-6, Train_Loss=0.00852]\n",
      "100%|██████████| 58/58 [00:02<00:00, 20.01it/s, Epoch=85, LR=6.89e-6, Valid_Loss=0.551]\n"
     ]
    },
    {
     "name": "stdout",
     "output_type": "stream",
     "text": [
      "max:11.768501\n",
      "mean:5.4131\n",
      "min:0.73795056\n",
      "acc:0.6788793103448276\n",
      "mse:0.61206895\n"
     ]
    },
    {
     "name": "stderr",
     "output_type": "stream",
     "text": [
      "  0%|          | 0/522 [00:00<?, ?it/s]"
     ]
    },
    {
     "name": "stdout",
     "output_type": "stream",
     "text": [
      "max:12.630903244018555\n",
      "mean:5.13075406597656\n",
      "min:0.7384737730026245\n",
      "test mse:0.43881513836677727\n",
      "test acc:0.6699029126213593\n",
      "PREDS TYPE:<class 'list'>\n",
      "\n"
     ]
    },
    {
     "name": "stderr",
     "output_type": "stream",
     "text": [
      "100%|██████████| 522/522 [01:28<00:00,  5.92it/s, Epoch=86, LR=5.5e-6, Train_Loss=0.00795]\n",
      "100%|██████████| 58/58 [00:02<00:00, 20.04it/s, Epoch=86, LR=5.5e-6, Valid_Loss=0.478]\n"
     ]
    },
    {
     "name": "stdout",
     "output_type": "stream",
     "text": [
      "max:11.646901\n",
      "mean:5.418477\n",
      "min:0.73615915\n",
      "acc:0.6767241379310345\n",
      "mse:0.54310346\n"
     ]
    },
    {
     "name": "stderr",
     "output_type": "stream",
     "text": [
      "  0%|          | 0/522 [00:00<?, ?it/s]"
     ]
    },
    {
     "name": "stdout",
     "output_type": "stream",
     "text": [
      "max:12.246027946472168\n",
      "mean:5.1531507208509355\n",
      "min:0.7605315446853638\n",
      "test mse:0.35116022298091837\n",
      "test acc:0.6737864077669903\n",
      "PREDS TYPE:<class 'list'>\n",
      "\n"
     ]
    },
    {
     "name": "stderr",
     "output_type": "stream",
     "text": [
      "100%|██████████| 522/522 [01:27<00:00,  5.93it/s, Epoch=87, LR=4.11e-6, Train_Loss=0.0076] \n",
      "100%|██████████| 58/58 [00:02<00:00, 19.87it/s, Epoch=87, LR=4.11e-6, Valid_Loss=0.486]\n"
     ]
    },
    {
     "name": "stdout",
     "output_type": "stream",
     "text": [
      "max:11.545332\n",
      "mean:5.3786592\n",
      "min:0.7314716\n",
      "acc:0.6896551724137931\n",
      "mse:0.5301724\n",
      "max:12.03527545928955\n",
      "mean:5.109755024169255\n",
      "min:0.7289549708366394\n",
      "test mse:0.3713505351058586\n",
      "test acc:0.6873786407766991\n",
      "PREDS TYPE:<class 'list'>\n",
      "\u001b[34mValidation AUC Improved (0.5301724076271057 ---> 0.5301724076271057)\n"
     ]
    },
    {
     "name": "stderr",
     "output_type": "stream",
     "text": [
      "  0%|          | 1/522 [00:00<01:30,  5.75it/s, Epoch=88, LR=2.85e-6, Train_Loss=0.00746]"
     ]
    },
    {
     "name": "stdout",
     "output_type": "stream",
     "text": [
      "Model Saved\n",
      "\n"
     ]
    },
    {
     "name": "stderr",
     "output_type": "stream",
     "text": [
      "100%|██████████| 522/522 [01:28<00:00,  5.91it/s, Epoch=88, LR=2.85e-6, Train_Loss=0.00732]\n",
      "100%|██████████| 58/58 [00:02<00:00, 19.90it/s, Epoch=88, LR=2.85e-6, Valid_Loss=0.541]\n"
     ]
    },
    {
     "name": "stdout",
     "output_type": "stream",
     "text": [
      "max:11.583705\n",
      "mean:5.4099073\n",
      "min:0.7473867\n",
      "acc:0.6810344827586207\n",
      "mse:0.5969828\n"
     ]
    },
    {
     "name": "stderr",
     "output_type": "stream",
     "text": [
      "  0%|          | 0/522 [00:00<?, ?it/s]"
     ]
    },
    {
     "name": "stdout",
     "output_type": "stream",
     "text": [
      "max:12.35998249053955\n",
      "mean:5.133745795314752\n",
      "min:0.7788489460945129\n",
      "test mse:0.4203371837011251\n",
      "test acc:0.6796116504854369\n",
      "PREDS TYPE:<class 'list'>\n",
      "\n"
     ]
    },
    {
     "name": "stderr",
     "output_type": "stream",
     "text": [
      "100%|██████████| 522/522 [01:28<00:00,  5.89it/s, Epoch=89, LR=1.86e-6, Train_Loss=0.00687]\n",
      "100%|██████████| 58/58 [00:02<00:00, 19.84it/s, Epoch=89, LR=1.86e-6, Valid_Loss=0.616]\n"
     ]
    },
    {
     "name": "stdout",
     "output_type": "stream",
     "text": [
      "max:11.447061\n",
      "mean:5.3961306\n",
      "min:0.74199444\n",
      "acc:0.6724137931034483\n",
      "mse:0.6573276\n"
     ]
    },
    {
     "name": "stderr",
     "output_type": "stream",
     "text": [
      "  0%|          | 0/522 [00:00<?, ?it/s]"
     ]
    },
    {
     "name": "stdout",
     "output_type": "stream",
     "text": [
      "max:12.182416915893555\n",
      "mean:5.114931646365564\n",
      "min:0.7682265639305115\n",
      "test mse:0.4583304934676007\n",
      "test acc:0.6796116504854369\n",
      "PREDS TYPE:<class 'list'>\n",
      "\n"
     ]
    },
    {
     "name": "stderr",
     "output_type": "stream",
     "text": [
      "100%|██████████| 522/522 [01:28<00:00,  5.90it/s, Epoch=90, LR=1.22e-6, Train_Loss=0.00641]\n",
      "100%|██████████| 58/58 [00:02<00:00, 20.03it/s, Epoch=90, LR=1.22e-6, Valid_Loss=0.526]\n"
     ]
    },
    {
     "name": "stdout",
     "output_type": "stream",
     "text": [
      "max:11.429213\n",
      "mean:5.3585525\n",
      "min:0.72202194\n",
      "acc:0.6961206896551724\n",
      "mse:0.5603448\n"
     ]
    },
    {
     "name": "stderr",
     "output_type": "stream",
     "text": [
      "  0%|          | 0/522 [00:00<?, ?it/s]"
     ]
    },
    {
     "name": "stdout",
     "output_type": "stream",
     "text": [
      "max:12.085794448852539\n",
      "mean:5.082729361010987\n",
      "min:0.7339768409729004\n",
      "test mse:0.4013449760665742\n",
      "test acc:0.6912621359223301\n",
      "PREDS TYPE:<class 'list'>\n",
      "\n"
     ]
    },
    {
     "name": "stderr",
     "output_type": "stream",
     "text": [
      "100%|██████████| 522/522 [01:28<00:00,  5.89it/s, Epoch=91, LR=1e-6, Train_Loss=0.0063] \n",
      "100%|██████████| 58/58 [00:02<00:00, 19.92it/s, Epoch=91, LR=1e-6, Valid_Loss=0.568]\n"
     ]
    },
    {
     "name": "stdout",
     "output_type": "stream",
     "text": [
      "max:11.413413\n",
      "mean:5.4172993\n",
      "min:0.7048328\n",
      "acc:0.6810344827586207\n",
      "mse:0.6228448\n"
     ]
    },
    {
     "name": "stderr",
     "output_type": "stream",
     "text": [
      "  0%|          | 0/522 [00:00<?, ?it/s]"
     ]
    },
    {
     "name": "stdout",
     "output_type": "stream",
     "text": [
      "max:12.168553352355957\n",
      "mean:5.143401551130906\n",
      "min:0.7400361895561218\n",
      "test mse:0.4163978346887324\n",
      "test acc:0.6796116504854369\n",
      "PREDS TYPE:<class 'list'>\n",
      "\n"
     ]
    },
    {
     "name": "stderr",
     "output_type": "stream",
     "text": [
      "100%|██████████| 522/522 [01:28<00:00,  5.91it/s, Epoch=92, LR=1.22e-6, Train_Loss=0.0059] \n",
      "100%|██████████| 58/58 [00:02<00:00, 19.97it/s, Epoch=92, LR=1.22e-6, Valid_Loss=0.53] \n"
     ]
    },
    {
     "name": "stdout",
     "output_type": "stream",
     "text": [
      "max:11.377081\n",
      "mean:5.3434224\n",
      "min:0.70886415\n",
      "acc:0.6982758620689655\n",
      "mse:0.55818963\n"
     ]
    },
    {
     "name": "stderr",
     "output_type": "stream",
     "text": [
      "  0%|          | 0/522 [00:00<?, ?it/s]"
     ]
    },
    {
     "name": "stdout",
     "output_type": "stream",
     "text": [
      "max:12.005142211914062\n",
      "mean:5.068237466488069\n",
      "min:0.7750409245491028\n",
      "test mse:0.40924939499005913\n",
      "test acc:0.6815533980582524\n",
      "PREDS TYPE:<class 'list'>\n",
      "\n"
     ]
    },
    {
     "name": "stderr",
     "output_type": "stream",
     "text": [
      "100%|██████████| 522/522 [01:28<00:00,  5.87it/s, Epoch=93, LR=1.86e-6, Train_Loss=0.00636]\n",
      "100%|██████████| 58/58 [00:02<00:00, 19.73it/s, Epoch=93, LR=1.86e-6, Valid_Loss=0.512]\n"
     ]
    },
    {
     "name": "stdout",
     "output_type": "stream",
     "text": [
      "max:11.716627\n",
      "mean:5.376046\n",
      "min:0.77079105\n",
      "acc:0.7047413793103449\n",
      "mse:0.55818963\n"
     ]
    },
    {
     "name": "stderr",
     "output_type": "stream",
     "text": [
      "  0%|          | 0/522 [00:00<?, ?it/s]"
     ]
    },
    {
     "name": "stdout",
     "output_type": "stream",
     "text": [
      "max:11.905447006225586\n",
      "mean:5.099171764179341\n",
      "min:0.7852386236190796\n",
      "test mse:0.3865000739980924\n",
      "test acc:0.6893203883495146\n",
      "PREDS TYPE:<class 'list'>\n",
      "\n"
     ]
    },
    {
     "name": "stderr",
     "output_type": "stream",
     "text": [
      "100%|██████████| 522/522 [01:29<00:00,  5.85it/s, Epoch=94, LR=2.85e-6, Train_Loss=0.00625]\n",
      "100%|██████████| 58/58 [00:02<00:00, 19.99it/s, Epoch=94, LR=2.85e-6, Valid_Loss=0.529]\n"
     ]
    },
    {
     "name": "stdout",
     "output_type": "stream",
     "text": [
      "max:11.530648\n",
      "mean:5.395772\n",
      "min:0.7385857\n",
      "acc:0.6745689655172413\n",
      "mse:0.57543105\n"
     ]
    },
    {
     "name": "stderr",
     "output_type": "stream",
     "text": [
      "  0%|          | 0/522 [00:00<?, ?it/s]"
     ]
    },
    {
     "name": "stdout",
     "output_type": "stream",
     "text": [
      "max:11.837833404541016\n",
      "mean:5.120864861914255\n",
      "min:0.7436234951019287\n",
      "test mse:0.4083512698350086\n",
      "test acc:0.6990291262135923\n",
      "PREDS TYPE:<class 'list'>\n",
      "\n"
     ]
    },
    {
     "name": "stderr",
     "output_type": "stream",
     "text": [
      "100%|██████████| 522/522 [01:28<00:00,  5.92it/s, Epoch=95, LR=4.11e-6, Train_Loss=0.00688]\n",
      "100%|██████████| 58/58 [00:02<00:00, 19.76it/s, Epoch=95, LR=4.11e-6, Valid_Loss=0.608]\n"
     ]
    },
    {
     "name": "stdout",
     "output_type": "stream",
     "text": [
      "max:11.492563\n",
      "mean:5.337028\n",
      "min:0.67211497\n",
      "acc:0.6724137931034483\n",
      "mse:0.6508621\n"
     ]
    },
    {
     "name": "stderr",
     "output_type": "stream",
     "text": [
      "  0%|          | 0/522 [00:00<?, ?it/s]"
     ]
    },
    {
     "name": "stdout",
     "output_type": "stream",
     "text": [
      "max:12.190339088439941\n",
      "mean:5.059236925088086\n",
      "min:0.6484261751174927\n",
      "test mse:0.44456702539118387\n",
      "test acc:0.6873786407766991\n",
      "PREDS TYPE:<class 'list'>\n",
      "\n"
     ]
    },
    {
     "name": "stderr",
     "output_type": "stream",
     "text": [
      "100%|██████████| 522/522 [01:28<00:00,  5.89it/s, Epoch=96, LR=5.5e-6, Train_Loss=0.00698]\n",
      "100%|██████████| 58/58 [00:02<00:00, 19.83it/s, Epoch=96, LR=5.5e-6, Valid_Loss=0.612]\n"
     ]
    },
    {
     "name": "stdout",
     "output_type": "stream",
     "text": [
      "max:11.681969\n",
      "mean:5.399123\n",
      "min:0.7872179\n",
      "acc:0.6875\n",
      "mse:0.67241377\n"
     ]
    },
    {
     "name": "stderr",
     "output_type": "stream",
     "text": [
      "  0%|          | 0/522 [00:00<?, ?it/s]"
     ]
    },
    {
     "name": "stdout",
     "output_type": "stream",
     "text": [
      "max:12.220621109008789\n",
      "mean:5.105206063997398\n",
      "min:0.7216889262199402\n",
      "test mse:0.465240039353642\n",
      "test acc:0.6679611650485436\n",
      "PREDS TYPE:<class 'list'>\n",
      "\n"
     ]
    },
    {
     "name": "stderr",
     "output_type": "stream",
     "text": [
      " 87%|████████▋ | 453/522 [01:16<00:11,  5.90it/s, Epoch=97, LR=6.89e-6, Train_Loss=0.00734]"
     ]
    }
   ],
   "source": [
    "from sklearn.metrics import accuracy_score, mean_squared_error\n",
    "\n",
    "plt.rcParams['figure.dpi'] = 150\n",
    "\n",
    "def fetch_scheduler(optimizer):\n",
    "    if CONFIG.scheduler == 'CosineAnnealingLR':\n",
    "        scheduler = lr_scheduler.CosineAnnealingLR(optimizer, T_max=CONFIG.T_max, eta_min=CONFIG.min_lr)\n",
    "    elif CONFIG.scheduler == 'CosineAnnealingWarmRestarts':\n",
    "        scheduler = lr_scheduler.CosineAnnealingWarmRestarts(optimizer, T_0=CONFIG.T_0, T_mult=1, eta_min=CONFIG.min_lr)\n",
    "    elif CONFIG.scheduler == None:\n",
    "        return None\n",
    "    \n",
    "        \n",
    "    return scheduler\n",
    "\n",
    "optimizer = optim.Adam(model.parameters(), lr=CONFIG.learning_rate, weight_decay=CONFIG.weight_decay)\n",
    "scheduler = fetch_scheduler(optimizer)\n",
    "\n",
    "print(CONFIG.device)\n",
    "print(CONFIG.epochs)\n",
    "#test_img = np.stack(df_test['image'].values  , axis=0)\n",
    "#test_img = test_img * 1.0/255.0\n",
    "print(type(test_imgs))\n",
    "print(test_imgs.shape)\n",
    "print(type(test_age))\n",
    "print(\"#########\")\n",
    "print(type(train_imgs))\n",
    "print(train_imgs.shape)\n",
    "\n",
    "test_img = torch.from_numpy(test_imgs)\n",
    "print(\"test_img shape:\"+str( test_imgs.shape) )\n",
    "print(\"test_img[0].shape:\"+str( test_imgs[0].shape))\n",
    "#test_img.to(CONFIG.device)\n",
    "print(\"max test_imgs0 value:\"+str( np.max(test_imgs[0]) ) )\n",
    "print(\"min test_imgs0 value:\"+str( np.min(test_imgs[0]) ) )\n",
    "\n",
    "a_seed = CONFIG.KERAS_TRAIN_TEST_SEED #2021\n",
    "numberOfFolds = CONFIG.n_fold #5\n",
    "kfold = StratifiedKFold(n_splits=numberOfFolds, random_state=a_seed, shuffle=True)\n",
    "#for i in range(0,5):\n",
    "#CONFIG.epochs=5\n",
    "test_15 = pd.DataFrame()\n",
    "for fold, (train_idx, val_idx) in enumerate(kfold.split(train_imgs, train_age.tolist())):\n",
    "    #train_loader, valid_loader = prepare_data(fold=i)\n",
    "    ######## K-FOLD Start #################\n",
    "    train_imgs_new = train_imgs[train_idx]\n",
    "    train_age_new = train_age[train_idx]\n",
    "    val_imgs_new = train_imgs[val_idx]\n",
    "    val_age_new = train_age[val_idx]\n",
    "    \n",
    "    train_dataset = codDataset(train_imgs_new, train_age_new, data_transforms[\"train\"])\n",
    "    valid_dataset = codDataset(val_imgs_new, val_age_new, data_transforms[\"valid\"])\n",
    "\n",
    "    train_loader = DataLoader(train_dataset, batch_size=CONFIG.train_batch_size, \n",
    "                              num_workers=0, shuffle=True, pin_memory=True)\n",
    "    valid_loader = DataLoader(valid_dataset, batch_size=CONFIG.valid_batch_size, \n",
    "                              num_workers=0, shuffle=False, pin_memory=True)\n",
    "    ######################### K-FOLD End #########################\n",
    "    model, history, best_model_wts = run(model, optimizer, scheduler, train_loader, valid_loader, fold, test_imgs)\n",
    "\n",
    "    fig = plt.figure(figsize=(5, 5))\n",
    "    with torch.no_grad():\n",
    "        PREDS_TEST  = []\n",
    "        \n",
    "        ceil_step = int(test_imgs.shape[0] / 25) + int(test_imgs.shape[0] % 25 > 0)\n",
    "        for i in range(0, ceil_step):\n",
    "            start_step = i * 25\n",
    "            preds = model( torch.Tensor(test_imgs[start_step:start_step+25]).to(CONFIG.device) )\n",
    "            preds = preds.cpu().detach().numpy()\n",
    "            preds = preds.flatten()\n",
    "            PREDS_TEST.extend(preds.tolist())\n",
    "            \n",
    "            if i == 0 :\n",
    "                fig = plt.figure(figsize=(5, 5))\n",
    "                plt.subplots_adjust(hspace = 2.0)\n",
    "                #test_imgs.shape[0]\n",
    "                for j in range(0, 25):\n",
    "                    fig.add_subplot(5, 5, j+1)\n",
    "                    \n",
    "                    #tmp = test_imgs[j]\n",
    "                    #channel1 = tmp[0:9:3,:,:]\n",
    "                    #channel2 = tmp[1:9:3,:,:]\n",
    "                    #channel3 = tmp[2:9:3,:,:]\n",
    "                    #channel1 = np.mean(channel1, axis=0 )\n",
    "                    #channel2 = np.mean(channel2, axis=0 )\n",
    "                    #channel3 = np.mean(channel3, axis=0 )\n",
    "                    #d3_img = np.stack((channel1, channel2, channel3), axis=0)\n",
    "                    #plt.imshow( d3_img.transpose(1,2,0) )\n",
    "                    \n",
    "                    #plt.imshow( test_imgs[j].transpose(1,2,0) )\n",
    "                    plt.title(f'{preds[j]:.2f} ,{test_age[j]}')\n",
    "                    plt.xticks([])\n",
    "                    plt.yticks([])\n",
    "                plt.tight_layout()\n",
    "                plt.show()\n",
    "\n",
    "        print(\"max:\"+str(np.max( PREDS_TEST )))\n",
    "        print(\"mean:\"+str(np.mean( PREDS_TEST )))\n",
    "        print(\"min:\"+str(np.min( PREDS_TEST )))\n",
    "\n",
    "        ROUNDED_PREDS_TEST = np.asarray(PREDS_TEST).round().astype('int')\n",
    "        #print(ROUNDED_PREDS_TEST ) \n",
    "        #print(type(ROUNDED_PREDS_TEST))\n",
    "        #print(ROUNDED_PREDS_TEST.shape)\n",
    "\n",
    "        print(\"test mse:\"+str( mean_squared_error(PREDS_TEST, test_age) )) \n",
    "        print(\"test acc:\"+str( accuracy_score(ROUNDED_PREDS_TEST.tolist(), test_age.tolist() ) )) \n",
    "        print(\"PREDS TYPE:\"+str(type(PREDS_TEST)))\n",
    "        #print(PREDS_TEST.shape) ##list\n",
    "        #print(\"PREDS:\"+str(ROUNDED_PREDS_TEST))\n",
    "        #print(\"TRUE:\"+str(test_age))\n",
    "\n",
    "        del model\n",
    "        model = codModel(CONFIG.model_name)\n",
    "        model.to(CONFIG.device);\n",
    "        \n",
    "        optimizer = optim.Adam(model.parameters(), lr=CONFIG.learning_rate, weight_decay=CONFIG.weight_decay)\n",
    "        scheduler = fetch_scheduler(optimizer)\n",
    "        test_15[str(fold)] = PREDS_TEST\n",
    "        test_15.to_csv(CONFIG.ROOTDIR+'preds_'+str(fold)+'.csv', index=False)\n",
    "        \n",
    "test_15.to_csv(CONFIG.ROOTDIR+'preds.csv', index=False)"
   ]
  },
  {
   "cell_type": "code",
   "execution_count": null,
   "metadata": {},
   "outputs": [],
   "source": [
    "#del model\n",
    "#torch.cuda.empty_cache()"
   ]
  },
  {
   "cell_type": "code",
   "execution_count": null,
   "metadata": {},
   "outputs": [],
   "source": [
    "y_true = pd.read_csv(CONFIG.ROOTDIR+\"test_set_files.csv\")\n",
    "\n",
    "from sklearn.metrics import accuracy_score, mean_squared_error\n",
    "tmp = test_15[\"0\"]+test_15[\"1\"]+test_15[\"2\"]+test_15[\"3\"]+test_15[\"4\"]+test_15[\"5\"]+test_15[\"6\"]+test_15[\"7\"]+test_15[\"8\"]+test_15[\"9\"]\n",
    "tmp = tmp/10\n",
    "print(accuracy_score(tmp.values.round().astype(\"int\"), y_true.age.values))\n",
    "print(mean_squared_error(tmp.values, y_true.age.values))      "
   ]
  },
  {
   "cell_type": "code",
   "execution_count": null,
   "metadata": {},
   "outputs": [],
   "source": [
    "tmp = test_15[\"0\"]+test_15[\"1\"]+test_15[\"2\"]+test_15[\"3\"]+test_15[\"4\"]+test_15[\"5\"]+test_15[\"6\"]+test_15[\"7\"]+test_15[\"8\"]+test_15[\"9\"]\n",
    "tmp = tmp/10\n",
    "tmp.values.round().astype(\"int\") - y_true.age.values"
   ]
  },
  {
   "cell_type": "code",
   "execution_count": null,
   "metadata": {},
   "outputs": [],
   "source": [
    "test_15[\"0\"].values.round().astype(\"int\")- y_true.age.values"
   ]
  },
  {
   "cell_type": "code",
   "execution_count": null,
   "metadata": {},
   "outputs": [],
   "source": [
    "test_15.values[0:10,:]"
   ]
  },
  {
   "cell_type": "code",
   "execution_count": null,
   "metadata": {},
   "outputs": [],
   "source": [
    "tmp.values[0:10]"
   ]
  }
 ],
 "metadata": {
  "kernelspec": {
   "display_name": "Python 3",
   "language": "python",
   "name": "python3"
  },
  "language_info": {
   "codemirror_mode": {
    "name": "ipython",
    "version": 3
   },
   "file_extension": ".py",
   "mimetype": "text/x-python",
   "name": "python",
   "nbconvert_exporter": "python",
   "pygments_lexer": "ipython3",
   "version": "3.8.5"
  }
 },
 "nbformat": 4,
 "nbformat_minor": 5
}
